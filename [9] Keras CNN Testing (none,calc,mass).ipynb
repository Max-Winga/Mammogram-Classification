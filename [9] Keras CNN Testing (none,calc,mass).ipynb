{
 "cells": [
  {
   "cell_type": "markdown",
   "id": "337606da",
   "metadata": {},
   "source": [
    "# [9] Keras CNN Testing (none,calc,mass)\n",
    "Same as [8]. This notebook is a bit of a warzone, didn't use results from this in the final report, it was pretty much just initially playing around with keras. Code has NOT been curated and probably won't run straight through. Disregard.\n",
    "\n",
    "Some code here was used from tutorials, they will be cited properly in the final notebooks"
   ]
  },
  {
   "cell_type": "code",
   "execution_count": 1,
   "id": "22ebb78e",
   "metadata": {
    "code_folding": []
   },
   "outputs": [],
   "source": [
    "%matplotlib inline\n",
    " \n",
    "import matplotlib.pyplot as plt\n",
    "import numpy as np\n",
    "import os\n",
    "import pprint\n",
    "pp = pprint.PrettyPrinter(indent=4)\n",
    "import seaborn as sns\n",
    "\n",
    "import pickle\n",
    "import random\n",
    "import math as m\n",
    "import time\n",
    "import pandas as pd\n",
    "import tensorflow as tf\n",
    "gpus = tf.config.experimental.list_physical_devices('GPU')\n",
    "if gpus:\n",
    "  try:\n",
    "    for gpu in gpus:\n",
    "      tf.config.experimental.set_memory_growth(gpu, True)\n",
    "  except RuntimeError as e:\n",
    "    print(e)"
   ]
  },
  {
   "cell_type": "code",
   "execution_count": 2,
   "id": "028ccf74",
   "metadata": {
    "code_folding": [
     0
    ]
   },
   "outputs": [
    {
     "name": "stdout",
     "output_type": "stream",
     "text": [
      "Wall time: 28.9 ms\n"
     ]
    }
   ],
   "source": [
    "%%time\n",
    "# loading in important variables\n",
    "\n",
    "# Keys\n",
    "with open('OFFICIAL_keys.pkl', 'rb') as f:\n",
    "    keys = pickle.load(f)\n",
    "train_set = keys[:int(0.8*len(keys))]\n",
    "test_set = keys[int(0.8*len(keys)):int(0.9*len(keys))+1]\n",
    "validation_set = keys[int(0.9*len(keys))+1:]\n",
    "\n",
    "# Classifications\n",
    "with open('classifications.pkl', 'rb') as f:\n",
    "    classifications = pickle.load(f)\n",
    "classes = []\n",
    "for i in range(2575):\n",
    "    if classifications[2*i] != classifications[2*i+1]:\n",
    "        print(\"Classification not equal\")\n",
    "    classes.append(classifications[2*i])\n",
    "classes = np.array(classes)\n",
    "\n",
    "# Abnormalities\n",
    "with open('abnormalities.pkl', 'rb') as f:\n",
    "    abnormalities = pickle.load(f)\n",
    "abnorms = []\n",
    "for i in range(2575):\n",
    "    if abnormalities[2*i] != abnormalities[2*i+1]:\n",
    "        print(\"abnormalities not equal\")\n",
    "    abnorms.append(abnormalities[2*i])\n",
    "abnorms = np.array(abnorms)\n",
    "\n",
    "with open('orientations.pkl', 'rb') as f:\n",
    "    orientations = pickle.load(f)"
   ]
  },
  {
   "cell_type": "code",
   "execution_count": 3,
   "id": "0e8e8bed",
   "metadata": {},
   "outputs": [],
   "source": [
    "from skimage.transform import resize\n",
    "\n",
    "def rescale_images(input_images, scale):\n",
    "    new_list = []\n",
    "    for image in input_images:\n",
    "        new_list.append(resize(image, scale))\n",
    "    return new_list\n",
    "\n",
    "def np_rescale_images(input_images, scale):\n",
    "    new_array = np.empty((input_images.shape[0], scale[0], scale[1]))\n",
    "    for i, image in enumerate(input_images):\n",
    "        new_array[i] = resize(image, scale)\n",
    "    return new_array"
   ]
  },
  {
   "cell_type": "code",
   "execution_count": 4,
   "id": "6c64a6b6",
   "metadata": {},
   "outputs": [],
   "source": [
    "scale = (725, 605)\n",
    "# scaled_images = rescale_images(images, scale)"
   ]
  },
  {
   "cell_type": "code",
   "execution_count": 5,
   "id": "2edc519f",
   "metadata": {
    "code_folding": [
     0
    ]
   },
   "outputs": [],
   "source": [
    "def conv_mat(pred, ground, conv_in_percent=False, print_percentages=False, scale_weights=False):\n",
    "    cats = ground.max()+1\n",
    "    conmat = np.zeros((cats,cats))\n",
    "    for i in range(pred.shape[0]):\n",
    "        y = pred[i]\n",
    "        x = ground[i]\n",
    "        if scale_weights: scale = class_weights[x]*class_weights[y]\n",
    "        else: scale = 1\n",
    "        conmat[x, y] += 1*scale\n",
    "    if print_percentages:\n",
    "        pred_per = np.empty((cats, 2))\n",
    "        ground_per = np.empty((cats, 2))\n",
    "        for i in range(cats):\n",
    "            pred_per[i] = [i,(np.count_nonzero(pred==i)/pred.shape[0])*100]\n",
    "            ground_per[i] = [i,(np.count_nonzero(ground==i)/pred.shape[0])*100]\n",
    "        print()\n",
    "        print(f\"Predicted Percentages: \\n{pred_per}\\n\")\n",
    "        print(f\"Ground Percentages: \\n{ground_per}\\n\")\n",
    "    if conv_in_percent:\n",
    "        if scale_weights: size = np.sum(conmat)\n",
    "        else: size = pred.shape[0]\n",
    "        conmat = np.round_((conmat / size)*100, 1)\n",
    "    plt.figure(figsize=(3,3))\n",
    "    sns.set(font_scale=1) \n",
    "    sns.heatmap(conmat, annot=True, annot_kws={\"size\": 16}, fmt='g', cmap='Blues', cbar=False)\n",
    "    plt.xlabel(\"Predicted Value\")\n",
    "    plt.ylabel(\"Actual Value\")\n",
    "    return conmat"
   ]
  },
  {
   "cell_type": "code",
   "execution_count": 6,
   "id": "239e8aea",
   "metadata": {},
   "outputs": [],
   "source": [
    "def accuracy(pred, ground):\n",
    "    c = 0\n",
    "    for i in range(pred.shape[0]):\n",
    "        if pred[i] == ground[i]:\n",
    "            c+=1\n",
    "    return c/pred.shape[0]"
   ]
  },
  {
   "cell_type": "code",
   "execution_count": 7,
   "id": "e9c68d06",
   "metadata": {},
   "outputs": [],
   "source": [
    "## This function will splits the images into three groups side view, bottom view, and a combined concatenated view\n",
    "## Takes (index, row, col) returns three np arrays in with images in flattened form -\n",
    "## with shape (image, index) in preparation for PCA\n",
    "def create_side_bottom_concat(np_imgs, to_print=False, orients=orientations):\n",
    "    side=[]\n",
    "    below=[]\n",
    "    flattened_imgs = np_imgs.reshape(np_imgs.shape[0], np_imgs.shape[1]*np_imgs.shape[2])\n",
    "    if to_print:\n",
    "        print(flattened_imgs.shape)\n",
    "    for i in range(0, flattened_imgs.shape[0]):\n",
    "        if len(orients[i]) == 2:\n",
    "            side.append(flattened_imgs[i])\n",
    "        else:\n",
    "            below.append(flattened_imgs[i])   \n",
    "    side = np.array(side)\n",
    "    below = np.array(below)\n",
    "    concat = np.concatenate((side, below), 1)\n",
    "    if to_print:\n",
    "        print('\\nconcatenated images')\n",
    "        print(f'concat.shape={concat.shape}')\n",
    "        print('\\nside images')\n",
    "        print(f'side.shape={side.shape}')\n",
    "        print('\\nbelow images')\n",
    "        print(f'below.shape={below.shape}')\n",
    "    return side, below, concat"
   ]
  },
  {
   "cell_type": "code",
   "execution_count": 8,
   "id": "91603b3e",
   "metadata": {},
   "outputs": [],
   "source": [
    "# with open('orientations.pkl', 'rb') as f:\n",
    "#     orientations = pickle.load(f)\n",
    "# orientations = np.array(orientations)\n",
    "# side_scaled, below_scaled, concat_scaled = create_side_bottom_concat(np_scaled_images)"
   ]
  },
  {
   "cell_type": "code",
   "execution_count": 9,
   "id": "a331ece5",
   "metadata": {},
   "outputs": [
    {
     "name": "stdout",
     "output_type": "stream",
     "text": [
      "(2575,)\n",
      "[722, 262, 1137, 454]\n"
     ]
    }
   ],
   "source": [
    "# Set Labels\n",
    "# label_classes = [\"D2 Normal\", \"Benign\", \"Malignant\"]\n",
    "label_classes = [\"None\", \"calcification\", \"mass\", \"both\"]\n",
    "\n",
    "# for i in range(classes.shape[0]):\n",
    "#     if classes[i] == \"D2 Normal\":\n",
    "#         labels.append(0)\n",
    "#     else:\n",
    "#         labels.append(1)\n",
    "# for i in range(abnorms.shape[0]):\n",
    "#     if abnorms[i] == \"calcification\"  or abnorms[i] == \"both\":\n",
    "#         labels.append(1)\n",
    "#     else:\n",
    "#         labels.append(0)\n",
    "\n",
    "occurences = [0, 0, 0, 0]\n",
    "labels = [] \n",
    "for i in range(abnorms.shape[0]):\n",
    "    if abnorms[i] == \"D2 Normal\":\n",
    "        labels.append(0)\n",
    "        occurences[0] += 1\n",
    "    if abnorms[i] == \"calcification\":\n",
    "        labels.append(1)\n",
    "        occurences[1] += 1\n",
    "    if abnorms[i] == \"mass\":\n",
    "        labels.append(2)\n",
    "        occurences[2] += 1\n",
    "    if abnorms[i] == \"both\":\n",
    "        labels.append(3)\n",
    "        occurences[3] += 1\n",
    "labels = np.array(labels)\n",
    "print(labels.shape)\n",
    "print(occurences)"
   ]
  },
  {
   "cell_type": "code",
   "execution_count": 10,
   "id": "2174c5e1",
   "metadata": {},
   "outputs": [
    {
     "name": "stdout",
     "output_type": "stream",
     "text": [
      "Wall time: 998 µs\n"
     ]
    }
   ],
   "source": [
    "%%time\n",
    "# with open('side_scaled.pkl', 'rb') as f:\n",
    "#     side_scaled = pickle.load(f)\n",
    "# with open('below_scaled.pkl', 'rb') as f:\n",
    "#     below_scaled = pickle.load(f)\n",
    "# with open('concat_scaled.pkl', 'rb') as f:\n",
    "#     concat_scaled = pickle.load(f)"
   ]
  },
  {
   "cell_type": "code",
   "execution_count": 11,
   "id": "d6984b14",
   "metadata": {},
   "outputs": [],
   "source": [
    "# dims = 2500\n",
    "# scans = reduce_dimensionality(concat_imgs.T, vectors, dims).T\n",
    "# inputs = scans\n",
    "# reshaped_concat_imgs = concat_imgs.reshape(2575, scale[0]*2, scale[1])\n",
    "# inputs = np_scaled_images\n",
    "def set_inputs(new_inputs):\n",
    "    X_train = new_inputs[train_set]\n",
    "    X_test = new_inputs[test_set]\n",
    "    X_validation = new_inputs[validation_set]\n",
    "    return X_train, X_test, X_validation\n",
    "#X_train, X_test, X_validation = concat_scaled[train_set], concat_scaled[test_set], concat_scaled[validation_set]\n",
    "y_train = labels[train_set]\n",
    "y_test = labels[test_set]\n",
    "y_validation = labels[validation_set]"
   ]
  },
  {
   "cell_type": "code",
   "execution_count": 12,
   "id": "467664a5",
   "metadata": {},
   "outputs": [],
   "source": [
    "# %%time\n",
    "# with open('concat_train_images.pkl', 'rb') as f:\n",
    "#     train_images = pickle.load(f)\n",
    "# with open('concat_test_images.pkl', 'rb') as f:\n",
    "#     test_images = pickle.load(f)\n",
    "# with open('concat_validation_images.pkl', 'rb') as f:\n",
    "#     validation_images = pickle.load(f)"
   ]
  },
  {
   "cell_type": "code",
   "execution_count": 13,
   "id": "56235389",
   "metadata": {},
   "outputs": [],
   "source": [
    "# train_images = np.reshape(train_images, (train_images.shape[0], scale[0]*2, scale[1]))\n",
    "# test_images = np.reshape(test_images, (test_images.shape[0], scale[0]*2, scale[1]))\n",
    "# validation_images = np.reshape(validation_images, (validation_images.shape[0], scale[0]*2, scale[1]))"
   ]
  },
  {
   "cell_type": "code",
   "execution_count": 14,
   "id": "8b8ca4c9",
   "metadata": {},
   "outputs": [
    {
     "ename": "NameError",
     "evalue": "name 'train_images' is not defined",
     "output_type": "error",
     "traceback": [
      "\u001b[1;31m---------------------------------------------------------------------------\u001b[0m",
      "\u001b[1;31mNameError\u001b[0m                                 Traceback (most recent call last)",
      "\u001b[1;32m~\\AppData\\Local\\Temp\\ipykernel_20772\\1430596038.py\u001b[0m in \u001b[0;36m<module>\u001b[1;34m\u001b[0m\n\u001b[0;32m     15\u001b[0m \u001b[0mvalidation_labels\u001b[0m \u001b[1;33m=\u001b[0m \u001b[0my_validation\u001b[0m\u001b[1;33m\u001b[0m\u001b[1;33m\u001b[0m\u001b[0m\n\u001b[0;32m     16\u001b[0m \u001b[1;33m\u001b[0m\u001b[0m\n\u001b[1;32m---> 17\u001b[1;33m \u001b[0mprint\u001b[0m\u001b[1;33m(\u001b[0m\u001b[0mtrain_images\u001b[0m\u001b[1;33m.\u001b[0m\u001b[0mshape\u001b[0m\u001b[1;33m)\u001b[0m \u001b[1;31m# (60000, 28, 28)\u001b[0m\u001b[1;33m\u001b[0m\u001b[1;33m\u001b[0m\u001b[0m\n\u001b[0m\u001b[0;32m     18\u001b[0m \u001b[0mprint\u001b[0m\u001b[1;33m(\u001b[0m\u001b[0mtrain_labels\u001b[0m\u001b[1;33m.\u001b[0m\u001b[0mshape\u001b[0m\u001b[1;33m)\u001b[0m \u001b[1;31m# (60000,)\u001b[0m\u001b[1;33m\u001b[0m\u001b[1;33m\u001b[0m\u001b[0m\n\u001b[0;32m     19\u001b[0m \u001b[0mprint\u001b[0m\u001b[1;33m(\u001b[0m\u001b[0mtest_images\u001b[0m\u001b[1;33m.\u001b[0m\u001b[0mshape\u001b[0m\u001b[1;33m)\u001b[0m \u001b[1;31m# (60000, 28, 28)\u001b[0m\u001b[1;33m\u001b[0m\u001b[1;33m\u001b[0m\u001b[0m\n",
      "\u001b[1;31mNameError\u001b[0m: name 'train_images' is not defined"
     ]
    }
   ],
   "source": [
    "import numpy as np\n",
    "import mnist\n",
    "from tensorflow import keras\n",
    "\n",
    "# The first time you run this might be a bit slow, since the\n",
    "# mnist package has to download and cache the data.\n",
    "# train_images = mnist.train_images()\n",
    "# train_labels = mnist.train_labels()\n",
    "\n",
    "#train_images = X_train\n",
    "train_labels = y_train\n",
    "#test_images = X_test\n",
    "test_labels = y_test\n",
    "#validation_images = X_validation\n",
    "validation_labels = y_validation\n",
    "\n",
    "print(train_images.shape) # (60000, 28, 28)\n",
    "print(train_labels.shape) # (60000,)\n",
    "print(test_images.shape) # (60000, 28, 28)\n",
    "print(test_labels.shape) # (60000,)\n",
    "print(validation_images.shape) # (60000, 28, 28)\n",
    "print(validation_labels.shape) # (60000,)"
   ]
  },
  {
   "cell_type": "code",
   "execution_count": null,
   "id": "3246a891",
   "metadata": {},
   "outputs": [],
   "source": [
    "%%time\n",
    "# train_images = mnist.train_images()\n",
    "# train_labels = mnist.train_labels()\n",
    "# test_images = mnist.test_images()\n",
    "# test_labels = mnist.test_labels()\n",
    "\n",
    "# Normalize the images.\n",
    "# train_images = (train_images / 255) - 0.5\n",
    "# test_images = (test_images / 255) - 0.5\n",
    "# validation_images = (validation_images / 255) - 0.5\n",
    "\n",
    "# Reshape the images.\n",
    "# train_images = np.expand_dims(train_images, axis=3)\n",
    "# test_images = np.expand_dims(test_images, axis=3)\n",
    "# validation_images = np.expand_dims(validation_images, axis=3)\n",
    "\n",
    "print(train_images.shape) # (60000, 28, 28, 1)\n",
    "print(test_images.shape)  # (10000, 28, 28, 1)\n",
    "print(validation_images.shape)  # (10000, 28, 28, 1)"
   ]
  },
  {
   "cell_type": "code",
   "execution_count": 15,
   "id": "0f237d6a",
   "metadata": {},
   "outputs": [],
   "source": [
    "# %%time\n",
    "# with open('norm_train_images.pkl', 'wb') as f:\n",
    "#     pickle.dump(train_images, f) \n",
    "# with open('norm_test_images.pkl', 'wb') as f:\n",
    "#     pickle.dump(test_images, f) \n",
    "# with open('norm_validation_images.pkl', 'wb') as f:\n",
    "#     pickle.dump(validation_images, f) "
   ]
  },
  {
   "cell_type": "code",
   "execution_count": 16,
   "id": "fea4f3c1",
   "metadata": {},
   "outputs": [
    {
     "name": "stdout",
     "output_type": "stream",
     "text": [
      "Wall time: 12.4 s\n"
     ]
    }
   ],
   "source": [
    "%%time\n",
    "import mnist\n",
    "from tensorflow import keras\n",
    "\n",
    "with open('norm_train_images.pkl', 'rb') as f:\n",
    "    X_train = pickle.load(f)\n",
    "with open('norm_test_images.pkl', 'rb') as f:\n",
    "    X_test = pickle.load(f)\n",
    "with open('norm_validation_images.pkl', 'rb') as f:\n",
    "    X_validation = pickle.load(f)\n",
    "    \n",
    "y_train = labels[train_set]\n",
    "y_test = labels[test_set]\n",
    "y_validation = labels[validation_set]"
   ]
  },
  {
   "cell_type": "code",
   "execution_count": 17,
   "id": "f6fdd0a2",
   "metadata": {},
   "outputs": [
    {
     "name": "stdout",
     "output_type": "stream",
     "text": [
      "[722, 262, 1137, 454]\n",
      "2575\n",
      "{0: 0.2803883495145631, 1: 0.10174757281553398, 2: 0.44155339805825244, 3: 0.17631067961165048}\n",
      "0.44155339805825244\n",
      "{0: 1.5747922437673132, 1: 4.3396946564885495, 2: 1.0, 3: 2.5044052863436126}\n"
     ]
    }
   ],
   "source": [
    "# from collections import Counter\n",
    "# type(y_train)\n",
    "# counter = Counter(y_train)                          \n",
    "# max_val = float(max(counter.values()))       \n",
    "# class_weights = {class_id : max_val/num_images for class_id, num_images in counter.items()}   \n",
    "# print(class_weights)\n",
    "# class_weights[2] = 0.5\n",
    "# print(class_weights)\n",
    "print(occurences)\n",
    "sum_occ = sum(occurences)\n",
    "print(sum_occ)\n",
    "occurence_perc = {i: occurences[i]/sum_occ for i in range(len(occurences))}\n",
    "print(occurence_perc)\n",
    "max_val = float(max(occurence_perc.values()))\n",
    "print(max_val)\n",
    "class_weights = {i: max_val/occurence_perc[i] for i in range(len(occurence_perc))}\n",
    "print(class_weights)"
   ]
  },
  {
   "cell_type": "code",
   "execution_count": 20,
   "id": "e15b35f2",
   "metadata": {},
   "outputs": [
    {
     "name": "stdout",
     "output_type": "stream",
     "text": [
      "Wall time: 90.8 ms\n"
     ]
    }
   ],
   "source": [
    "%%time\n",
    "from tensorflow.keras.models import Sequential\n",
    "from tensorflow.keras.layers import Conv2D, MaxPooling2D, Dense, Flatten\n",
    "from tensorflow.keras.layers import Dropout\n",
    "from tensorflow.keras.layers import Dense\n",
    "\n",
    "num_filters = 32 # 8\n",
    "filter_size = 3 # 3\n",
    "pool_size = 2 # 2\n",
    "with tf.device(\"/cpu:0\"):\n",
    "    model = Sequential([\n",
    "      Conv2D(num_filters, filter_size, input_shape=(scale[0]*2, scale[1], 1), strides=2, padding='same', activation='relu'),\n",
    "      Conv2D(num_filters, filter_size, strides=2, padding='same', activation='relu'),\n",
    "      MaxPooling2D(pool_size=pool_size),\n",
    "      Dropout(0.2),\n",
    "      Flatten(),\n",
    "      Dense(40, activation='relu'),\n",
    "      Dense(4, activation='softmax'),\n",
    "    ])\n",
    "epochs_on_model = 0"
   ]
  },
  {
   "cell_type": "code",
   "execution_count": 21,
   "id": "1dd80ffb",
   "metadata": {},
   "outputs": [
    {
     "name": "stdout",
     "output_type": "stream",
     "text": [
      "Wall time: 3.99 ms\n"
     ]
    }
   ],
   "source": [
    "%%time\n",
    "model.compile(\n",
    "  'adam',\n",
    "  loss='categorical_crossentropy',\n",
    "  metrics=['accuracy'],\n",
    ")"
   ]
  },
  {
   "cell_type": "code",
   "execution_count": 22,
   "id": "91549a11",
   "metadata": {},
   "outputs": [
    {
     "name": "stdout",
     "output_type": "stream",
     "text": [
      "Epoch 1/20\n",
      "65/65 [==============================] - 115s 2s/step - loss: 2.6575 - accuracy: 0.3311 - val_loss: 1.3858 - val_accuracy: 0.4457\n",
      "Epoch 2/20\n",
      "65/65 [==============================] - 104s 2s/step - loss: 2.4416 - accuracy: 0.3262 - val_loss: 1.3864 - val_accuracy: 0.4457\n",
      "Epoch 3/20\n",
      "65/65 [==============================] - 103s 2s/step - loss: 2.4417 - accuracy: 0.2272 - val_loss: 1.3860 - val_accuracy: 0.1434\n",
      "Epoch 4/20\n",
      "65/65 [==============================] - 103s 2s/step - loss: 2.4417 - accuracy: 0.2141 - val_loss: 1.3858 - val_accuracy: 0.4457\n",
      "Epoch 5/20\n",
      "65/65 [==============================] - 101s 2s/step - loss: 2.4416 - accuracy: 0.4199 - val_loss: 1.3856 - val_accuracy: 0.4457\n",
      "Epoch 6/20\n",
      "65/65 [==============================] - 102s 2s/step - loss: 2.4416 - accuracy: 0.4437 - val_loss: 1.3843 - val_accuracy: 0.4457\n",
      "Epoch 7/20\n",
      "65/65 [==============================] - 102s 2s/step - loss: 2.4417 - accuracy: 0.4442 - val_loss: 1.3848 - val_accuracy: 0.4457\n",
      "Epoch 8/20\n",
      "65/65 [==============================] - 102s 2s/step - loss: 2.4416 - accuracy: 0.4442 - val_loss: 1.3845 - val_accuracy: 0.4457\n",
      "Epoch 9/20\n",
      "65/65 [==============================] - 102s 2s/step - loss: 2.4417 - accuracy: 0.2913 - val_loss: 1.3855 - val_accuracy: 0.4457\n",
      "Epoch 10/20\n",
      "65/65 [==============================] - 102s 2s/step - loss: 2.4415 - accuracy: 0.4442 - val_loss: 1.3846 - val_accuracy: 0.4457\n",
      "Epoch 11/20\n",
      "65/65 [==============================] - 103s 2s/step - loss: 2.4416 - accuracy: 0.4442 - val_loss: 1.3844 - val_accuracy: 0.4457\n",
      "Epoch 12/20\n",
      "65/65 [==============================] - 103s 2s/step - loss: 2.4416 - accuracy: 0.4442 - val_loss: 1.3839 - val_accuracy: 0.4457\n",
      "Epoch 13/20\n",
      "65/65 [==============================] - 103s 2s/step - loss: 2.4416 - accuracy: 0.4442 - val_loss: 1.3837 - val_accuracy: 0.4457\n",
      "Epoch 14/20\n",
      "65/65 [==============================] - 103s 2s/step - loss: 2.4416 - accuracy: 0.4117 - val_loss: 1.3833 - val_accuracy: 0.4457\n",
      "Epoch 15/20\n",
      "65/65 [==============================] - 103s 2s/step - loss: 2.4417 - accuracy: 0.4442 - val_loss: 1.3835 - val_accuracy: 0.4457\n",
      "Epoch 16/20\n",
      "65/65 [==============================] - 103s 2s/step - loss: 2.4416 - accuracy: 0.4442 - val_loss: 1.3834 - val_accuracy: 0.4457\n",
      "Epoch 17/20\n",
      "65/65 [==============================] - 103s 2s/step - loss: 2.4417 - accuracy: 0.4184 - val_loss: 1.3841 - val_accuracy: 0.4457\n",
      "Epoch 18/20\n",
      "65/65 [==============================] - 104s 2s/step - loss: 2.4417 - accuracy: 0.4442 - val_loss: 1.3828 - val_accuracy: 0.4457\n",
      "Epoch 19/20\n",
      "65/65 [==============================] - 103s 2s/step - loss: 2.4416 - accuracy: 0.4442 - val_loss: 1.3818 - val_accuracy: 0.4457\n",
      "Epoch 20/20\n",
      "65/65 [==============================] - 103s 2s/step - loss: 2.4418 - accuracy: 0.4442 - val_loss: 1.3836 - val_accuracy: 0.4457\n",
      "Wall time: 34min 29s\n"
     ]
    }
   ],
   "source": [
    "%%time\n",
    "from tensorflow.keras.utils import to_categorical\n",
    "epochs_this = 20\n",
    "epochs_on_model += epochs_this\n",
    "with tf.device(\"/cpu:0\"):\n",
    "    model.fit(\n",
    "      X_train,\n",
    "      to_categorical(y_train),\n",
    "      epochs=epochs_this,\n",
    "      validation_data=(X_test, to_categorical(y_test)),\n",
    "      class_weight=class_weights, \n",
    "    )"
   ]
  },
  {
   "cell_type": "code",
   "execution_count": 24,
   "id": "9446f240",
   "metadata": {},
   "outputs": [
    {
     "name": "stdout",
     "output_type": "stream",
     "text": [
      "Epochs so far: 20\n",
      "\n",
      "65/65 [==============================] - 25s 312ms/step\n",
      "Train Accuracy = 0.4441747572815534\n",
      "9/9 [==============================] - 3s 265ms/step\n",
      "Test Accuracy = 0.44573643410852715\n",
      "9/9 [==============================] - 3s 268ms/step\n",
      "Validation Accuracy = 0.4163424124513619\n",
      "\n",
      "Predicted Percentages: \n",
      "[[  0.   0.]\n",
      " [  1.   0.]\n",
      " [  2. 100.]\n",
      " [  3.   0.]]\n",
      "\n",
      "Ground Percentages: \n",
      "[[ 0.         26.07003891]\n",
      " [ 1.         11.28404669]\n",
      " [ 2.         41.63424125]\n",
      " [ 3.         21.01167315]]\n",
      "\n"
     ]
    },
    {
     "data": {
      "image/png": "[encoded data removed]",
      "text/plain": [
       "<Figure size 300x300 with 1 Axes>"
      ]
     },
     "metadata": {},
     "output_type": "display_data"
    },
    {
     "data": {
      "image/png": "[encoded data removed]",
      "text/plain": [
       "<Figure size 300x300 with 1 Axes>"
      ]
     },
     "metadata": {},
     "output_type": "display_data"
    }
   ],
   "source": [
    "with tf.device(\"/cpu:0\"):\n",
    "    print(f\"Epochs so far: {epochs_on_model}\\n\")\n",
    "\n",
    "    raw_predictions = model.predict(X_train)\n",
    "    predictions = np.argmax(raw_predictions, axis=1)\n",
    "    print(f\"Train Accuracy = {accuracy(predictions, y_train)}\")\n",
    "\n",
    "    raw_predictions = model.predict(X_test)\n",
    "    predictions = np.argmax(raw_predictions, axis=1)\n",
    "    print(f\"Test Accuracy = {accuracy(predictions, y_test)}\")\n",
    "\n",
    "    raw_predictions = model.predict(X_validation)\n",
    "    predictions = np.argmax(raw_predictions, axis=1)\n",
    "    print(f\"Validation Accuracy = {accuracy(predictions, y_validation)}\")\n",
    "\n",
    "    # print(f\"Convolution Matrix:\\n{conv_mat(predictions, y_validation, True, True)}\")\n",
    "    # print(f\"Scaled Convolution Matrix:\\n{conv_mat(predictions, y_validation, True, False, True)}\")\n",
    "    unscaled_conv = conv_mat(predictions, y_validation, True, True)\n",
    "    scaled_conv = conv_mat(predictions, y_validation, True, False, True)"
   ]
  },
  {
   "cell_type": "code",
   "execution_count": 147,
   "id": "e1c336a5",
   "metadata": {},
   "outputs": [
    {
     "name": "stdout",
     "output_type": "stream",
     "text": [
      "[[0. 0.]\n",
      " [0. 0.]\n",
      " [0. 0.]]\n"
     ]
    }
   ],
   "source": []
  },
  {
   "cell_type": "code",
   "execution_count": 93,
   "id": "3ed74362",
   "metadata": {},
   "outputs": [],
   "source": [
    "model.save_weights('3ClassModel_1.h5')"
   ]
  },
  {
   "cell_type": "code",
   "execution_count": 94,
   "id": "1305e351",
   "metadata": {},
   "outputs": [],
   "source": [
    "from tensorflow.keras.models import Sequential\n",
    "from tensorflow.keras.layers import Conv2D, MaxPooling2D, Dense, Flatten\n",
    "\n",
    "num_filters = 8\n",
    "filter_size = 3\n",
    "pool_size = 2\n",
    "\n",
    "# Build the model.\n",
    "model = Sequential([\n",
    "  Conv2D(num_filters, filter_size, input_shape=(2*scale[0], scale[1], 1)),\n",
    "  MaxPooling2D(pool_size=pool_size),\n",
    "  Flatten(),\n",
    "  Dense(3, activation='softmax'),\n",
    "])\n",
    "\n",
    "# Load the model's saved weights.\n",
    "model.load_weights('3ClassModel_1.h5')"
   ]
  },
  {
   "cell_type": "code",
   "execution_count": 110,
   "id": "e71abb90",
   "metadata": {},
   "outputs": [
    {
     "name": "stdout",
     "output_type": "stream",
     "text": [
      "9/9 [==============================] - 0s 19ms/step\n",
      "[2 0 0 2 1 0 2 0 2 0 1 0 2 0 2 2 1 2 1 2 2 0 2 1 0 2 2 0 2 2 2 1 0 2 2 1 2\n",
      " 1 2 1 2 1 2 1 1 2 0 2 1 2 1 2 0 2 0 0 1 0 2 0 1 0 2 2 0 2 2 2 2 1 0 2 2 2\n",
      " 0 2 2 2 0 1 2 0 2 0 2 2 2 2 2 1 0 2 2 2 0 1 0 0 1 2 0 1 0 1 0 2 1 1 1 1 1\n",
      " 2 0 2 0 0 2 0 0 2 1 1 1 2 2 2 2 0 2 2 2 0 2 2 2 0 2 2 2 0 2 2 0 0 2 2 2 2\n",
      " 2 2 0 0 1 0 0 0 2 2 2 1 2 0 1 2 0 2 2 2 2 2 1 2 0 1 0 1 2 2 0 0 1 2 2 0 2\n",
      " 0 2 2 0 1 1 0 2 1 0 2 2 1 2 2 0 1 0 2 1 1 1 1 1 2 2 2 2 2 1 1 2 0 0 2 2 2\n",
      " 1 0 0 0 0 0 1 2 0 0 2 2 0 1 2 2 2 2 2 2 2 2 1 0 1 0 0 2 2 2 2 2 2 2 2 2]\n",
      "[1 2 0 1 1 2 1 0 2 2 2 2 0 1 2 0 0 2 0 0 2 2 2 1 2 2 2 2 2 0 0 2 0 0 2 1 2\n",
      " 0 2 0 0 0 2 2 2 0 2 2 2 2 0 0 2 0 1 2 2 2 0 2 0 0 1 2 2 2 2 2 2 1 2 2 1 2\n",
      " 2 2 1 0 0 2 2 2 0 0 0 0 0 0 2 0 2 2 2 2 2 2 2 2 2 0 0 2 2 2 2 1 0 2 1 2 0\n",
      " 2 1 2 2 0 0 0 0 2 2 1 2 0 2 0 0 2 2 0 2 0 2 0 2 2 2 2 1 0 2 1 2 2 2 0 2 0\n",
      " 2 0 2 2 0 2 1 2 2 2 1 0 2 2 2 2 2 1 0 2 1 2 0 2 1 2 2 1 1 2 2 0 0 2 1 1 1\n",
      " 0 2 2 2 2 0 0 2 0 0 2 0 2 1 1 2 0 0 0 2 2 2 0 2 2 0 1 2 1 2 2 2 2 2 2 1 0\n",
      " 1 0 0 0 2 2 2 2 1 1 2 1 0 1 0 0 2 0 2 0 1 2 0 1 0 2 1 2 0 0 2 2 0 2 1 2]\n"
     ]
    }
   ],
   "source": [
    "# Predict on the first 5 test images.\n",
    "raw_predictions = model.predict(X_test)\n",
    "predictions = np.argmax(raw_predictions, axis=1)\n",
    "# Print our model's predictions.\n",
    "print(predictions) # [7, 2, 1, 0, 4]\n",
    "\n",
    "# Check our predictions against the ground truths.\n",
    "print(y_test) # [7, 2, 1, 0, 4]"
   ]
  },
  {
   "cell_type": "code",
   "execution_count": 108,
   "id": "f0b5a76c",
   "metadata": {},
   "outputs": [],
   "source": [
    "def accuracy(pred, ground):\n",
    "    c = 0\n",
    "    for i in range(pred.shape[0]):\n",
    "        if pred[i] == ground[i]:\n",
    "            c+=1\n",
    "    return c/pred.shape[0]"
   ]
  },
  {
   "cell_type": "code",
   "execution_count": 114,
   "id": "c84ede12",
   "metadata": {},
   "outputs": [
    {
     "name": "stdout",
     "output_type": "stream",
     "text": [
      "(258,) (258,)\n"
     ]
    },
    {
     "data": {
      "text/plain": [
       "0.3798449612403101"
      ]
     },
     "execution_count": 114,
     "metadata": {},
     "output_type": "execute_result"
    }
   ],
   "source": [
    "accuracy(predictions, y_test)"
   ]
  },
  {
   "cell_type": "code",
   "execution_count": null,
   "id": "81aab4bf",
   "metadata": {},
   "outputs": [],
   "source": []
  }
 ],
 "metadata": {
  "kernelspec": {
   "display_name": "Python 3 (ipykernel)",
   "language": "python",
   "name": "python3"
  },
  "language_info": {
   "codemirror_mode": {
    "name": "ipython",
    "version": 3
   },
   "file_extension": ".py",
   "mimetype": "text/x-python",
   "name": "python",
   "nbconvert_exporter": "python",
   "pygments_lexer": "ipython3",
   "version": "3.9.13"
  },
  "varInspector": {
   "cols": {
    "lenName": 16,
    "lenType": 16,
    "lenVar": 40
   },
   "kernels_config": {
    "python": {
     "delete_cmd_postfix": "",
     "delete_cmd_prefix": "del ",
     "library": "var_list.py",
     "varRefreshCmd": "print(var_dic_list())"
    },
    "r": {
     "delete_cmd_postfix": ") ",
     "delete_cmd_prefix": "rm(",
     "library": "var_list.r",
     "varRefreshCmd": "cat(var_dic_list()) "
    }
   },
   "types_to_exclude": [
    "module",
    "function",
    "builtin_function_or_method",
    "instance",
    "_Feature"
   ],
   "window_display": false
  }
 },
 "nbformat": 4,
 "nbformat_minor": 5
}
