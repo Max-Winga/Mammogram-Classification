{
 "cells": [
  {
   "cell_type": "markdown",
   "id": "9380692d",
   "metadata": {},
   "source": [
    "# [08] Keras CNN Testing (normal, benign, malignant)\n",
    "This notebook is a bit of a warzone, didn't use results from this in the final report, it was pretty much just initially playing around with keras. Code has NOT been curated and probably won't run straight through. Disregard.\n",
    "\n",
    "Some code here was used from tutorials, they will be cited properly in the final notebooks"
   ]
  },
  {
   "cell_type": "code",
   "execution_count": 1,
   "id": "22ebb78e",
   "metadata": {},
   "outputs": [],
   "source": [
    "%matplotlib inline\n",
    " \n",
    "import matplotlib.pyplot as plt\n",
    "import numpy as np\n",
    "import os\n",
    "import pprint\n",
    "pp = pprint.PrettyPrinter(indent=4)\n",
    "\n",
    "import pickle\n",
    "import random\n",
    "import math as m\n",
    "import time\n",
    "import pandas as pd\n",
    "import seaborn as sns"
   ]
  },
  {
   "cell_type": "code",
   "execution_count": 2,
   "id": "028ccf74",
   "metadata": {},
   "outputs": [
    {
     "name": "stdout",
     "output_type": "stream",
     "text": [
      "Wall time: 73.8 ms\n"
     ]
    }
   ],
   "source": [
    "%%time\n",
    "# loading in important variables\n",
    "\n",
    "# Eigenvectors (just side for testing now)\n",
    "# with open('train_concat_vectors.npy', 'rb') as f:\n",
    "#     train_concat_vectors = pickle.load(f) \n",
    "# vectors = train_concat_vectors\n",
    "\n",
    "# Keys\n",
    "with open('OFFICIAL_keys.pkl', 'rb') as f:\n",
    "    keys = pickle.load(f)\n",
    "train_set = keys[:int(0.8*len(keys))]\n",
    "test_set = keys[int(0.8*len(keys)):int(0.9*len(keys))+1]\n",
    "validation_set = keys[int(0.9*len(keys))+1:]\n",
    "\n",
    "# Images\n",
    "# with open('side_imgs.npy', 'rb') as f:\n",
    "#     side_imgs = pickle.load(f)\n",
    "# with open('below_imgs.npy', 'rb') as f:\n",
    "#     below_imgs = pickle.load(f) \n",
    "# with open('concat_imgs.npy', 'rb') as f:\n",
    "#     concat_imgs = pickle.load(f) \n",
    "# scale = (162, 135)\n",
    "# with open('images.pkl', 'rb') as f:\n",
    "#     images = pickle.load(f)\n",
    "\n",
    "# Classifications\n",
    "with open('classifications.pkl', 'rb') as f:\n",
    "    classifications = pickle.load(f)\n",
    "classes = []\n",
    "for i in range(2575):\n",
    "    if classifications[2*i] != classifications[2*i+1]:\n",
    "        print(\"Classification not equal\")\n",
    "    classes.append(classifications[2*i])\n",
    "classes = np.array(classes)\n",
    "\n",
    "# Abnormalities\n",
    "with open('abnormalities.pkl', 'rb') as f:\n",
    "    abnormalities = pickle.load(f)\n",
    "abnorms = []\n",
    "for i in range(2575):\n",
    "    if abnormalities[2*i] != abnormalities[2*i+1]:\n",
    "        print(\"abnormalities not equal\")\n",
    "    abnorms.append(abnormalities[2*i])\n",
    "abnorms = np.array(abnorms)"
   ]
  },
  {
   "cell_type": "code",
   "execution_count": 3,
   "id": "a955ca42",
   "metadata": {},
   "outputs": [
    {
     "name": "stdout",
     "output_type": "stream",
     "text": [
      "(5150,) (5150,)\n",
      "(5150,)\n"
     ]
    }
   ],
   "source": [
    "classes = np.array(classifications)\n",
    "abnorms = np.array(abnormalities)\n",
    "print(classes.shape, abnorms.shape)\n",
    "with open('orientations.pkl', 'rb') as f:\n",
    "    orientations = pickle.load(f)\n",
    "orientations = np.array(orientations)\n",
    "print(orientations.shape)"
   ]
  },
  {
   "cell_type": "code",
   "execution_count": 4,
   "id": "0e8e8bed",
   "metadata": {},
   "outputs": [],
   "source": [
    "from skimage.transform import resize\n",
    "\n",
    "def rescale_images(input_images, scale):\n",
    "    new_list = []\n",
    "    for image in input_images:\n",
    "        new_list.append(resize(image, scale))\n",
    "    return new_list\n",
    "\n",
    "def np_rescale_images(input_images, scale):\n",
    "    new_array = np.empty((input_images.shape[0], scale[0], scale[1]))\n",
    "    for i, image in enumerate(input_images):\n",
    "        new_array[i] = resize(image, scale)\n",
    "    return new_array"
   ]
  },
  {
   "cell_type": "code",
   "execution_count": 5,
   "id": "6c64a6b6",
   "metadata": {},
   "outputs": [],
   "source": [
    "scale = (725, 605)\n",
    "# scaled_images = rescale_images(images, scale)"
   ]
  },
  {
   "cell_type": "code",
   "execution_count": 6,
   "id": "6e887dff",
   "metadata": {},
   "outputs": [],
   "source": [
    "# with open('scaled_images.pkl', 'wb') as f:\n",
    "#     pickle.dump(scaled_images, f) "
   ]
  },
  {
   "cell_type": "code",
   "execution_count": null,
   "id": "4ef05900",
   "metadata": {},
   "outputs": [],
   "source": [
    "%%time\n",
    "with open('scaled_images.pkl', 'rb') as f:\n",
    "    scaled_images = pickle.load(f)"
   ]
  },
  {
   "cell_type": "code",
   "execution_count": 7,
   "id": "8c50e99d",
   "metadata": {},
   "outputs": [],
   "source": [
    "## Takes flattened images (wxh, n), eigenvectors for the set, and k = new dimensionality\n",
    "## Returns an array similar to flattened images array but with k instead of n dimensions\n",
    "def reduce_dimensionality(imgs, vecs, k):\n",
    "    reduced_dim = np.matmul(vecs[:k], imgs)\n",
    "    return reduced_dim\n",
    "\n",
    "## Converts the reduced dimension scan back to original image dimension\n",
    "def reduced_to_img(reduced, vecs):\n",
    "    approx = np.matmul(vecs[:reduced.shape[0]].T, reduced)\n",
    "    return approx\n",
    "\n",
    "## Combined the above two functions for convenience in creating downscaled images\n",
    "def reduce_img_dim(imgs, vecs, k):\n",
    "    return reduced_to_img(reduce_dimensionality(imgs, vecs, k), vecs)"
   ]
  },
  {
   "cell_type": "code",
   "execution_count": 8,
   "id": "2edc519f",
   "metadata": {},
   "outputs": [],
   "source": [
    "def conv_mat(pred, ground, conv_in_percent=False, print_percentages=False, scale_weights=False):\n",
    "    cats = pred.max()+1\n",
    "    conmat = np.zeros((cats,cats))\n",
    "    for i in range(pred.shape[0]):\n",
    "        y = pred[i]\n",
    "        x = ground[i]\n",
    "        if scale_weights: scale = class_weights[x]*class_weights[y]\n",
    "        else: scale = 1\n",
    "        conmat[x, y] += 1*scale\n",
    "    if print_percentages:\n",
    "        pred_per = np.empty((cats, 2))\n",
    "        ground_per = np.empty((cats, 2))\n",
    "        for i in range(cats):\n",
    "            pred_per[i] = [i,(np.count_nonzero(pred==i)/pred.shape[0])*100]\n",
    "            ground_per[i] = [i,(np.count_nonzero(ground==i)/pred.shape[0])*100]\n",
    "        print()\n",
    "        print(f\"Predicted Percentages: \\n{pred_per}\\n\")\n",
    "        print(f\"Ground Percentages: \\n{ground_per}\\n\")\n",
    "    if conv_in_percent:\n",
    "        if scale_weights: size = np.sum(conmat)\n",
    "        else: size = pred.shape[0]\n",
    "        conmat = np.round_((conmat / size)*100, 1)\n",
    "    plt.figure(figsize=(3,3))\n",
    "    sns.set(font_scale=1) \n",
    "    sns.heatmap(conmat, annot=True, annot_kws={\"size\": 16}, fmt='g', cmap='Blues', cbar=False)\n",
    "    plt.xlabel(\"Predicted Value\")\n",
    "    plt.ylabel(\"Actual Value\")\n",
    "    return conmat"
   ]
  },
  {
   "cell_type": "code",
   "execution_count": 9,
   "id": "e9c68d06",
   "metadata": {},
   "outputs": [],
   "source": [
    "## This function will splits the images into three groups side view, bottom view, and a combined concatenated view\n",
    "## Takes (index, row, col) returns three np arrays in with images in flattened form -\n",
    "## with shape (image, index) in preparation for PCA\n",
    "def create_side_bottom_concat(np_imgs, to_print=False, orients=orientations):\n",
    "    side=[]\n",
    "    below=[]\n",
    "    flattened_imgs = np_imgs.reshape(np_imgs.shape[0], np_imgs.shape[1]*np_imgs.shape[2])\n",
    "    if to_print:\n",
    "        print(flattened_imgs.shape)\n",
    "    for i in range(0, flattened_imgs.shape[0]):\n",
    "        if len(orients[i]) == 2:\n",
    "            side.append(flattened_imgs[i])\n",
    "        else:\n",
    "            below.append(flattened_imgs[i])   \n",
    "    side = np.array(side)\n",
    "    below = np.array(below)\n",
    "    concat = np.concatenate((side, below), 1)\n",
    "    if to_print:\n",
    "        print('\\nconcatenated images')\n",
    "        print(f'concat.shape={concat.shape}')\n",
    "        print('\\nside images')\n",
    "        print(f'side.shape={side.shape}')\n",
    "        print('\\nbelow images')\n",
    "        print(f'below.shape={below.shape}')\n",
    "    return side, below, concat"
   ]
  },
  {
   "cell_type": "code",
   "execution_count": 10,
   "id": "a331ece5",
   "metadata": {},
   "outputs": [],
   "source": [
    "# Set Labels\n",
    "label_classes = [\"D2 Normal\", \"Benign\", \"Malignant\"]\n",
    "labels = []\n",
    "\n",
    "# for i in range(classes.shape[0]):\n",
    "#     if classes[i] == \"D2 Normal\":\n",
    "#         labels.append(0)\n",
    "#     else:\n",
    "#         labels.append(1)\n",
    "\n",
    "# for i in range(abnorms.shape[0]):\n",
    "#     if abnorms[i] == \"calcification\"  or abnorms[i] == \"both\":\n",
    "#         labels.append(1)\n",
    "#     else:\n",
    "#         labels.append(0)\n",
    "\n",
    "for i in range(classes.shape[0]):\n",
    "    if classes[i] == \"D2 Normal\":\n",
    "        labels.append(0)\n",
    "    elif classes[i] == \"Benign\":\n",
    "        labels.append(1)\n",
    "    else:\n",
    "        labels.append(2)\n",
    "\n",
    "labels = np.array(labels)"
   ]
  },
  {
   "cell_type": "code",
   "execution_count": null,
   "id": "ba091fcc",
   "metadata": {},
   "outputs": [],
   "source": []
  },
  {
   "cell_type": "code",
   "execution_count": 33,
   "id": "d6984b14",
   "metadata": {},
   "outputs": [
    {
     "ename": "TypeError",
     "evalue": "only integer scalar arrays can be converted to a scalar index",
     "output_type": "error",
     "traceback": [
      "\u001b[1;31m---------------------------------------------------------------------------\u001b[0m",
      "\u001b[1;31mTypeError\u001b[0m                                 Traceback (most recent call last)",
      "\u001b[1;32m~\\AppData\\Local\\Temp\\ipykernel_13740\\605044779.py\u001b[0m in \u001b[0;36m<module>\u001b[1;34m\u001b[0m\n\u001b[0;32m      9\u001b[0m     \u001b[0mX_validation\u001b[0m \u001b[1;33m=\u001b[0m \u001b[0mnew_inputs\u001b[0m\u001b[1;33m[\u001b[0m\u001b[0mvalidation_set\u001b[0m\u001b[1;33m]\u001b[0m\u001b[1;33m\u001b[0m\u001b[1;33m\u001b[0m\u001b[0m\n\u001b[0;32m     10\u001b[0m     \u001b[1;32mreturn\u001b[0m \u001b[0mX_train\u001b[0m\u001b[1;33m,\u001b[0m \u001b[0mX_test\u001b[0m\u001b[1;33m,\u001b[0m \u001b[0mX_validation\u001b[0m\u001b[1;33m\u001b[0m\u001b[1;33m\u001b[0m\u001b[0m\n\u001b[1;32m---> 11\u001b[1;33m \u001b[0mX_train\u001b[0m\u001b[1;33m,\u001b[0m \u001b[0mX_test\u001b[0m\u001b[1;33m,\u001b[0m \u001b[0mX_validation\u001b[0m \u001b[1;33m=\u001b[0m \u001b[0mset_inputs\u001b[0m\u001b[1;33m(\u001b[0m\u001b[0minputs\u001b[0m\u001b[1;33m)\u001b[0m\u001b[1;33m\u001b[0m\u001b[1;33m\u001b[0m\u001b[0m\n\u001b[0m\u001b[0;32m     12\u001b[0m \u001b[0my_train\u001b[0m \u001b[1;33m=\u001b[0m \u001b[0mlabels\u001b[0m\u001b[1;33m[\u001b[0m\u001b[0mtrain_set\u001b[0m\u001b[1;33m]\u001b[0m\u001b[1;33m\u001b[0m\u001b[1;33m\u001b[0m\u001b[0m\n\u001b[0;32m     13\u001b[0m \u001b[0my_test\u001b[0m \u001b[1;33m=\u001b[0m \u001b[0mlabels\u001b[0m\u001b[1;33m[\u001b[0m\u001b[0mtest_set\u001b[0m\u001b[1;33m]\u001b[0m\u001b[1;33m\u001b[0m\u001b[1;33m\u001b[0m\u001b[0m\n",
      "\u001b[1;32m~\\AppData\\Local\\Temp\\ipykernel_13740\\605044779.py\u001b[0m in \u001b[0;36mset_inputs\u001b[1;34m(new_inputs)\u001b[0m\n\u001b[0;32m      5\u001b[0m \u001b[0minputs\u001b[0m \u001b[1;33m=\u001b[0m \u001b[0mscaled_images\u001b[0m\u001b[1;33m\u001b[0m\u001b[1;33m\u001b[0m\u001b[0m\n\u001b[0;32m      6\u001b[0m \u001b[1;32mdef\u001b[0m \u001b[0mset_inputs\u001b[0m\u001b[1;33m(\u001b[0m\u001b[0mnew_inputs\u001b[0m\u001b[1;33m)\u001b[0m\u001b[1;33m:\u001b[0m\u001b[1;33m\u001b[0m\u001b[1;33m\u001b[0m\u001b[0m\n\u001b[1;32m----> 7\u001b[1;33m     \u001b[0mX_train\u001b[0m \u001b[1;33m=\u001b[0m \u001b[0mnew_inputs\u001b[0m\u001b[1;33m[\u001b[0m\u001b[0mtrain_set\u001b[0m\u001b[1;33m.\u001b[0m\u001b[0mastype\u001b[0m\u001b[1;33m(\u001b[0m\u001b[0mint\u001b[0m\u001b[1;33m)\u001b[0m\u001b[1;33m]\u001b[0m\u001b[1;33m\u001b[0m\u001b[1;33m\u001b[0m\u001b[0m\n\u001b[0m\u001b[0;32m      8\u001b[0m     \u001b[0mX_test\u001b[0m \u001b[1;33m=\u001b[0m \u001b[0mnew_inputs\u001b[0m\u001b[1;33m[\u001b[0m\u001b[0mtest_set\u001b[0m\u001b[1;33m]\u001b[0m\u001b[1;33m\u001b[0m\u001b[1;33m\u001b[0m\u001b[0m\n\u001b[0;32m      9\u001b[0m     \u001b[0mX_validation\u001b[0m \u001b[1;33m=\u001b[0m \u001b[0mnew_inputs\u001b[0m\u001b[1;33m[\u001b[0m\u001b[0mvalidation_set\u001b[0m\u001b[1;33m]\u001b[0m\u001b[1;33m\u001b[0m\u001b[1;33m\u001b[0m\u001b[0m\n",
      "\u001b[1;31mTypeError\u001b[0m: only integer scalar arrays can be converted to a scalar index"
     ]
    }
   ],
   "source": [
    "dims = 2500\n",
    "# scans = reduce_dimensionality(concat_imgs.T, vectors, dims).T\n",
    "# inputs = scans\n",
    "# reshaped_concat_imgs = concat_imgs.reshape(2575, scale[0]*2, scale[1])\n",
    "inputs = scaled_images\n",
    "def set_inputs(new_inputs):\n",
    "    X_train = new_inputs[train_set.astype(int)]\n",
    "    X_test = new_inputs[test_set]\n",
    "    X_validation = new_inputs[validation_set]\n",
    "    return X_train, X_test, X_validation\n",
    "X_train, X_test, X_validation = set_inputs(inputs)\n",
    "y_train = labels[train_set]\n",
    "y_test = labels[test_set]\n",
    "y_validation = labels[validation_set]"
   ]
  },
  {
   "cell_type": "code",
   "execution_count": 23,
   "id": "cba04230",
   "metadata": {},
   "outputs": [],
   "source": [
    "# print(concat_imgs.shape)\n",
    "# reshaped_concat_imgs = concat_imgs.reshape(2575, 162*2, 135)\n",
    "# print(test_reshape.shape)\n",
    "# plt.imshow(test_reshape[3], cmap='gray')"
   ]
  },
  {
   "cell_type": "code",
   "execution_count": 24,
   "id": "8b8ca4c9",
   "metadata": {},
   "outputs": [
    {
     "name": "stdout",
     "output_type": "stream",
     "text": [
      "(2060, 2294, 1914)\n",
      "(2060,)\n",
      "(258, 2294, 1914)\n",
      "(258,)\n"
     ]
    }
   ],
   "source": [
    "import numpy as np\n",
    "import mnist\n",
    "from tensorflow import keras\n",
    "\n",
    "# The first time you run this might be a bit slow, since the\n",
    "# mnist package has to download and cache the data.\n",
    "# train_images = mnist.train_images()\n",
    "# train_labels = mnist.train_labels()\n",
    "\n",
    "train_images = X_train\n",
    "train_labels = y_train\n",
    "test_images = X_test\n",
    "test_labels = y_test\n",
    "validation_images = X_validation\n",
    "validation_labels = y_validation\n",
    "\n",
    "print(train_images.shape) # (60000, 28, 28)\n",
    "print(train_labels.shape) # (60000,)\n",
    "print(test_images.shape) # (60000, 28, 28)\n",
    "print(test_labels.shape) # (60000,)\n",
    "print(validation_images.shape) # (60000, 28, 28)\n",
    "print(validation_labels.shape) # (60000,)"
   ]
  },
  {
   "cell_type": "code",
   "execution_count": 29,
   "id": "8d0876fc",
   "metadata": {},
   "outputs": [
    {
     "data": {
      "text/plain": [
       "<matplotlib.image.AxesImage at 0x21126688ac0>"
      ]
     },
     "execution_count": 29,
     "metadata": {},
     "output_type": "execute_result"
    },
    {
     "data": {
      "image/png": "[encoded data removed]",
      "text/plain": [
       "<Figure size 640x480 with 1 Axes>"
      ]
     },
     "metadata": {},
     "output_type": "display_data"
    }
   ],
   "source": []
  },
  {
   "cell_type": "code",
   "execution_count": 27,
   "id": "3246a891",
   "metadata": {},
   "outputs": [
    {
     "ename": "MemoryError",
     "evalue": "Unable to allocate 67.4 GiB for an array with shape (2060, 2294, 1914) and data type float64",
     "output_type": "error",
     "traceback": [
      "\u001b[1;31m---------------------------------------------------------------------------\u001b[0m",
      "\u001b[1;31mMemoryError\u001b[0m                               Traceback (most recent call last)",
      "\u001b[1;32m~\\AppData\\Local\\Temp\\ipykernel_10224\\3374049965.py\u001b[0m in \u001b[0;36m<module>\u001b[1;34m\u001b[0m\n\u001b[0;32m      5\u001b[0m \u001b[1;33m\u001b[0m\u001b[0m\n\u001b[0;32m      6\u001b[0m \u001b[1;31m# Normalize the images.\u001b[0m\u001b[1;33m\u001b[0m\u001b[1;33m\u001b[0m\u001b[0m\n\u001b[1;32m----> 7\u001b[1;33m \u001b[0mtrain_images\u001b[0m \u001b[1;33m=\u001b[0m \u001b[1;33m(\u001b[0m\u001b[0mtrain_images\u001b[0m \u001b[1;33m/\u001b[0m \u001b[1;36m255\u001b[0m\u001b[1;33m)\u001b[0m \u001b[1;33m-\u001b[0m \u001b[1;36m0.5\u001b[0m\u001b[1;33m\u001b[0m\u001b[1;33m\u001b[0m\u001b[0m\n\u001b[0m\u001b[0;32m      8\u001b[0m \u001b[0mtest_images\u001b[0m \u001b[1;33m=\u001b[0m \u001b[1;33m(\u001b[0m\u001b[0mtest_images\u001b[0m \u001b[1;33m/\u001b[0m \u001b[1;36m255\u001b[0m\u001b[1;33m)\u001b[0m \u001b[1;33m-\u001b[0m \u001b[1;36m0.5\u001b[0m\u001b[1;33m\u001b[0m\u001b[1;33m\u001b[0m\u001b[0m\n\u001b[0;32m      9\u001b[0m \u001b[1;33m\u001b[0m\u001b[0m\n",
      "\u001b[1;31mMemoryError\u001b[0m: Unable to allocate 67.4 GiB for an array with shape (2060, 2294, 1914) and data type float64"
     ]
    }
   ],
   "source": [
    "# train_images = mnist.train_images()\n",
    "# train_labels = mnist.train_labels()\n",
    "# test_images = mnist.test_images()\n",
    "# test_labels = mnist.test_labels()\n",
    "\n",
    "# Normalize the images.\n",
    "train_images = (train_images / 255) - 0.5\n",
    "test_images = (test_images / 255) - 0.5\n",
    "validation_images = (validation_images / 255) - 0.5\n",
    "\n",
    "# Reshape the images.\n",
    "train_images = np.expand_dims(train_images, axis=3)\n",
    "test_images = np.expand_dims(test_images, axis=3)\n",
    "validation_images = np.expand_dims(validation_images, axis=3)\n",
    "\n",
    "print(train_images.shape) # (60000, 28, 28, 1)\n",
    "print(test_images.shape)  # (10000, 28, 28, 1)\n",
    "print(validation_images.shape)  # (10000, 28, 28, 1)"
   ]
  },
  {
   "cell_type": "code",
   "execution_count": null,
   "id": "0f237d6a",
   "metadata": {},
   "outputs": [],
   "source": []
  },
  {
   "cell_type": "code",
   "execution_count": 243,
   "id": "e15b35f2",
   "metadata": {},
   "outputs": [],
   "source": [
    "from tensorflow.keras.models import Sequential\n",
    "from tensorflow.keras.layers import Conv2D, MaxPooling2D, Dense, Flatten\n",
    "from tensorflow.keras.layers import Dropout\n",
    "from tensorflow.keras.layers import Dense\n",
    "\n",
    "num_filters = 15 # 8\n",
    "filter_size = 3\n",
    "pool_size = 2\n",
    "\n",
    "model = Sequential([\n",
    "  Conv2D(num_filters, filter_size, input_shape=(scale[0], scale[1], 1)),\n",
    "  MaxPooling2D(pool_size=pool_size),\n",
    "  Dropout(0),\n",
    "  Flatten(),\n",
    "  Dense(64, activation='relu'),\n",
    "  Dense(3, activation='softmax'),\n",
    "])\n",
    "epochs_on_model = 0"
   ]
  },
  {
   "cell_type": "code",
   "execution_count": null,
   "id": "1dd80ffb",
   "metadata": {},
   "outputs": [],
   "source": [
    "model.compile(\n",
    "  'adam',\n",
    "  loss='categorical_crossentropy',\n",
    "  metrics=['accuracy'],\n",
    ")"
   ]
  },
  {
   "cell_type": "code",
   "execution_count": 245,
   "id": "f6fdd0a2",
   "metadata": {},
   "outputs": [
    {
     "name": "stdout",
     "output_type": "stream",
     "text": [
      "{2: 1.0, 0: 1.7930434782608695, 1: 2.2709251101321586}\n"
     ]
    }
   ],
   "source": [
    "from collections import Counter\n",
    "\n",
    "counter = Counter(y_train)                          \n",
    "max_val = float(max(counter.values()))       \n",
    "class_weights = {class_id : max_val/num_images for class_id, num_images in counter.items()}   \n",
    "print(class_weights)\n",
    "# class_weights[2] = 0.5\n",
    "# print(class_weights)"
   ]
  },
  {
   "cell_type": "code",
   "execution_count": 246,
   "id": "91549a11",
   "metadata": {},
   "outputs": [
    {
     "name": "stdout",
     "output_type": "stream",
     "text": [
      "Epoch 1/10\n",
      "65/65 [==============================] - 11s 158ms/step - loss: 1.8032 - accuracy: 0.3490 - val_loss: 1.1625 - val_accuracy: 0.2326\n",
      "Epoch 2/10\n",
      "65/65 [==============================] - 10s 156ms/step - loss: 1.5333 - accuracy: 0.4199 - val_loss: 1.1355 - val_accuracy: 0.2752\n",
      "Epoch 3/10\n",
      "65/65 [==============================] - 10s 154ms/step - loss: 1.4229 - accuracy: 0.5165 - val_loss: 1.1272 - val_accuracy: 0.3411\n",
      "Epoch 4/10\n",
      "65/65 [==============================] - 10s 155ms/step - loss: 1.3036 - accuracy: 0.5757 - val_loss: 1.1498 - val_accuracy: 0.3760\n",
      "Epoch 5/10\n",
      "65/65 [==============================] - 10s 155ms/step - loss: 1.1431 - accuracy: 0.6786 - val_loss: 1.1171 - val_accuracy: 0.4535\n",
      "Epoch 6/10\n",
      "65/65 [==============================] - 10s 154ms/step - loss: 0.9800 - accuracy: 0.7403 - val_loss: 1.2755 - val_accuracy: 0.3372\n",
      "Epoch 7/10\n",
      "65/65 [==============================] - 10s 155ms/step - loss: 0.8055 - accuracy: 0.8015 - val_loss: 1.3085 - val_accuracy: 0.4109\n",
      "Epoch 8/10\n",
      "65/65 [==============================] - 10s 155ms/step - loss: 0.6370 - accuracy: 0.8505 - val_loss: 1.3617 - val_accuracy: 0.3992\n",
      "Epoch 9/10\n",
      "65/65 [==============================] - 10s 155ms/step - loss: 0.4958 - accuracy: 0.8922 - val_loss: 1.5169 - val_accuracy: 0.3682\n",
      "Epoch 10/10\n",
      "65/65 [==============================] - 10s 154ms/step - loss: 0.3675 - accuracy: 0.9350 - val_loss: 1.6157 - val_accuracy: 0.3915\n"
     ]
    },
    {
     "data": {
      "text/plain": [
       "<keras.callbacks.History at 0x20de6798040>"
      ]
     },
     "execution_count": 246,
     "metadata": {},
     "output_type": "execute_result"
    }
   ],
   "source": [
    "from tensorflow.keras.utils import to_categorical\n",
    "epochs_this = 10\n",
    "epochs_on_model += epochs_this\n",
    "model.fit(\n",
    "  train_images,\n",
    "  to_categorical(train_labels),\n",
    "  epochs=epochs_this,\n",
    "  validation_data=(test_images, to_categorical(test_labels)),\n",
    "  class_weight=class_weights, \n",
    ")"
   ]
  },
  {
   "cell_type": "code",
   "execution_count": 247,
   "id": "9446f240",
   "metadata": {},
   "outputs": [
    {
     "name": "stdout",
     "output_type": "stream",
     "text": [
      "Epochs so far: 10\n",
      "\n",
      "65/65 [==============================] - 2s 30ms/step\n",
      "Train Accuracy = 0.9703883495145631\n",
      "9/9 [==============================] - 0s 27ms/step\n",
      "Test Accuracy = 0.39147286821705424\n",
      "9/9 [==============================] - 0s 27ms/step\n",
      "Validation Accuracy = 0.4046692607003891\n",
      "\n",
      "Predicted Percentages: \n",
      "[[ 0.         33.85214008]\n",
      " [ 1.         19.45525292]\n",
      " [ 2.         46.692607  ]]\n",
      "\n",
      "Ground Percentages: \n",
      "[[ 0.         26.07003891]\n",
      " [ 1.         23.3463035 ]\n",
      " [ 2.         50.58365759]]\n",
      "\n"
     ]
    },
    {
     "data": {
      "image/png": "[encoded data removed]",
      "text/plain": [
       "<Figure size 300x300 with 1 Axes>"
      ]
     },
     "metadata": {},
     "output_type": "display_data"
    },
    {
     "data": {
      "image/png": "[encoded data removed]",
      "text/plain": [
       "<Figure size 300x300 with 1 Axes>"
      ]
     },
     "metadata": {},
     "output_type": "display_data"
    }
   ],
   "source": [
    "print(f\"Epochs so far: {epochs_on_model}\\n\")\n",
    "\n",
    "raw_predictions = model.predict(X_train)\n",
    "predictions = np.argmax(raw_predictions, axis=1)\n",
    "print(f\"Train Accuracy = {accuracy(predictions, y_train)}\")\n",
    "\n",
    "raw_predictions = model.predict(X_test)\n",
    "predictions = np.argmax(raw_predictions, axis=1)\n",
    "print(f\"Test Accuracy = {accuracy(predictions, y_test)}\")\n",
    "\n",
    "raw_predictions = model.predict(X_validation)\n",
    "predictions = np.argmax(raw_predictions, axis=1)\n",
    "print(f\"Validation Accuracy = {accuracy(predictions, y_validation)}\")\n",
    "\n",
    "# print(f\"Convolution Matrix:\\n{conv_mat(predictions, y_validation, True, True)}\")\n",
    "# print(f\"Scaled Convolution Matrix:\\n{conv_mat(predictions, y_validation, True, False, True)}\")\n",
    "unscaled_conv = conv_mat(predictions, y_validation, True, True)\n",
    "scaled_conv = conv_mat(predictions, y_validation, True, False, True)"
   ]
  },
  {
   "cell_type": "code",
   "execution_count": 147,
   "id": "e1c336a5",
   "metadata": {},
   "outputs": [
    {
     "name": "stdout",
     "output_type": "stream",
     "text": [
      "[[0. 0.]\n",
      " [0. 0.]\n",
      " [0. 0.]]\n"
     ]
    }
   ],
   "source": []
  },
  {
   "cell_type": "code",
   "execution_count": 93,
   "id": "3ed74362",
   "metadata": {},
   "outputs": [],
   "source": [
    "model.save_weights('3ClassModel_1.h5')"
   ]
  },
  {
   "cell_type": "code",
   "execution_count": 94,
   "id": "1305e351",
   "metadata": {},
   "outputs": [],
   "source": [
    "from tensorflow.keras.models import Sequential\n",
    "from tensorflow.keras.layers import Conv2D, MaxPooling2D, Dense, Flatten\n",
    "\n",
    "num_filters = 8\n",
    "filter_size = 3\n",
    "pool_size = 2\n",
    "\n",
    "# Build the model.\n",
    "model = Sequential([\n",
    "  Conv2D(num_filters, filter_size, input_shape=(2*scale[0], scale[1], 1)),\n",
    "  MaxPooling2D(pool_size=pool_size),\n",
    "  Flatten(),\n",
    "  Dense(3, activation='softmax'),\n",
    "])\n",
    "\n",
    "# Load the model's saved weights.\n",
    "model.load_weights('3ClassModel_1.h5')"
   ]
  },
  {
   "cell_type": "code",
   "execution_count": 110,
   "id": "e71abb90",
   "metadata": {},
   "outputs": [
    {
     "name": "stdout",
     "output_type": "stream",
     "text": [
      "9/9 [==============================] - 0s 19ms/step\n",
      "[2 0 0 2 1 0 2 0 2 0 1 0 2 0 2 2 1 2 1 2 2 0 2 1 0 2 2 0 2 2 2 1 0 2 2 1 2\n",
      " 1 2 1 2 1 2 1 1 2 0 2 1 2 1 2 0 2 0 0 1 0 2 0 1 0 2 2 0 2 2 2 2 1 0 2 2 2\n",
      " 0 2 2 2 0 1 2 0 2 0 2 2 2 2 2 1 0 2 2 2 0 1 0 0 1 2 0 1 0 1 0 2 1 1 1 1 1\n",
      " 2 0 2 0 0 2 0 0 2 1 1 1 2 2 2 2 0 2 2 2 0 2 2 2 0 2 2 2 0 2 2 0 0 2 2 2 2\n",
      " 2 2 0 0 1 0 0 0 2 2 2 1 2 0 1 2 0 2 2 2 2 2 1 2 0 1 0 1 2 2 0 0 1 2 2 0 2\n",
      " 0 2 2 0 1 1 0 2 1 0 2 2 1 2 2 0 1 0 2 1 1 1 1 1 2 2 2 2 2 1 1 2 0 0 2 2 2\n",
      " 1 0 0 0 0 0 1 2 0 0 2 2 0 1 2 2 2 2 2 2 2 2 1 0 1 0 0 2 2 2 2 2 2 2 2 2]\n",
      "[1 2 0 1 1 2 1 0 2 2 2 2 0 1 2 0 0 2 0 0 2 2 2 1 2 2 2 2 2 0 0 2 0 0 2 1 2\n",
      " 0 2 0 0 0 2 2 2 0 2 2 2 2 0 0 2 0 1 2 2 2 0 2 0 0 1 2 2 2 2 2 2 1 2 2 1 2\n",
      " 2 2 1 0 0 2 2 2 0 0 0 0 0 0 2 0 2 2 2 2 2 2 2 2 2 0 0 2 2 2 2 1 0 2 1 2 0\n",
      " 2 1 2 2 0 0 0 0 2 2 1 2 0 2 0 0 2 2 0 2 0 2 0 2 2 2 2 1 0 2 1 2 2 2 0 2 0\n",
      " 2 0 2 2 0 2 1 2 2 2 1 0 2 2 2 2 2 1 0 2 1 2 0 2 1 2 2 1 1 2 2 0 0 2 1 1 1\n",
      " 0 2 2 2 2 0 0 2 0 0 2 0 2 1 1 2 0 0 0 2 2 2 0 2 2 0 1 2 1 2 2 2 2 2 2 1 0\n",
      " 1 0 0 0 2 2 2 2 1 1 2 1 0 1 0 0 2 0 2 0 1 2 0 1 0 2 1 2 0 0 2 2 0 2 1 2]\n"
     ]
    }
   ],
   "source": [
    "# Predict on the first 5 test images.\n",
    "raw_predictions = model.predict(X_test)\n",
    "predictions = np.argmax(raw_predictions, axis=1)\n",
    "# Print our model's predictions.\n",
    "print(predictions) # [7, 2, 1, 0, 4]\n",
    "\n",
    "# Check our predictions against the ground truths.\n",
    "print(y_test) # [7, 2, 1, 0, 4]"
   ]
  },
  {
   "cell_type": "code",
   "execution_count": 108,
   "id": "f0b5a76c",
   "metadata": {},
   "outputs": [],
   "source": [
    "def accuracy(pred, ground):\n",
    "    c = 0\n",
    "    for i in range(pred.shape[0]):\n",
    "        if pred[i] == ground[i]:\n",
    "            c+=1\n",
    "    return c/pred.shape[0]"
   ]
  },
  {
   "cell_type": "code",
   "execution_count": 114,
   "id": "c84ede12",
   "metadata": {},
   "outputs": [
    {
     "name": "stdout",
     "output_type": "stream",
     "text": [
      "(258,) (258,)\n"
     ]
    },
    {
     "data": {
      "text/plain": [
       "0.3798449612403101"
      ]
     },
     "execution_count": 114,
     "metadata": {},
     "output_type": "execute_result"
    }
   ],
   "source": [
    "accuracy(predictions, y_test)"
   ]
  },
  {
   "cell_type": "code",
   "execution_count": null,
   "id": "81aab4bf",
   "metadata": {},
   "outputs": [],
   "source": []
  }
 ],
 "metadata": {
  "kernelspec": {
   "display_name": "Python 3.8.10 64-bit (microsoft store)",
   "language": "python",
   "name": "python3"
  },
  "language_info": {
   "codemirror_mode": {
    "name": "ipython",
    "version": 3
   },
   "file_extension": ".py",
   "mimetype": "text/x-python",
   "name": "python",
   "nbconvert_exporter": "python",
   "pygments_lexer": "ipython3",
   "version": "3.8.10"
  },
  "varInspector": {
   "cols": {
    "lenName": 16,
    "lenType": 16,
    "lenVar": 40
   },
   "kernels_config": {
    "python": {
     "delete_cmd_postfix": "",
     "delete_cmd_prefix": "del ",
     "library": "var_list.py",
     "varRefreshCmd": "print(var_dic_list())"
    },
    "r": {
     "delete_cmd_postfix": ") ",
     "delete_cmd_prefix": "rm(",
     "library": "var_list.r",
     "varRefreshCmd": "cat(var_dic_list()) "
    }
   },
   "types_to_exclude": [
    "module",
    "function",
    "builtin_function_or_method",
    "instance",
    "_Feature"
   ],
   "window_display": false
  },
  "vscode": {
   "interpreter": {
    "hash": "7010176685934d3a852a8a710a53763ecd9f9d798e257150638a5ae7ac06725f"
   }
  }
 },
 "nbformat": 4,
 "nbformat_minor": 5
}
