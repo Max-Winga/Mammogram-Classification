{
 "cells": [
  {
   "cell_type": "markdown",
   "id": "a18beee7",
   "metadata": {},
   "source": [
    "## [0] Data Setup\n",
    "This notebook pulls data from the dataset and converts it into the forms that we need for the project, we get all the clinical data and images and convert the data into three sets for side view, bottom view, and a concatenated set with both."
   ]
  },
  {
   "cell_type": "code",
   "execution_count": 1,
   "id": "2945a51b",
   "metadata": {
    "ExecuteTime": {
     "end_time": "2022-12-16T19:39:38.047561Z",
     "start_time": "2022-12-16T19:39:35.822009Z"
    }
   },
   "outputs": [],
   "source": [
    "## Import libraries\n",
    "import numpy as np\n",
    "import pydicom\n",
    "from pydicom.pixel_data_handlers.util import apply_voi_lut\n",
    "import pandas as pd\n",
    "import os\n",
    "import pickle\n",
    "from skimage.transform import resize\n",
    "\n",
    "import matplotlib.pyplot as plt\n",
    "%matplotlib inline"
   ]
  },
  {
   "cell_type": "code",
   "execution_count": 2,
   "id": "454226f9",
   "metadata": {
    "ExecuteTime": {
     "end_time": "2022-12-16T17:34:26.874383Z",
     "start_time": "2022-12-16T17:34:26.824517Z"
    }
   },
   "outputs": [],
   "source": [
    "## Read CSV data\n",
    "meta = pd.read_csv('metadata.csv')\n",
    "clinical = pd.read_csv('CMMD_clinicaldata_revision.csv')"
   ]
  },
  {
   "cell_type": "code",
   "execution_count": 3,
   "id": "ff1d9dd4",
   "metadata": {
    "ExecuteTime": {
     "end_time": "2022-12-16T17:34:29.250033Z",
     "start_time": "2022-12-16T17:34:29.239063Z"
    },
    "code_folding": []
   },
   "outputs": [],
   "source": [
    "## Converts a dicom file to a 2D numpy array\n",
    "def convert_dicom_to_np(dicom):\n",
    "    data_voi = apply_voi_lut(dicom.pixel_array, dicom)\n",
    "    data = dicom.pixel_array\n",
    "    dicom.PhotometricInterpretation\n",
    "    data_voi = data_voi - np.min(data_voi)\n",
    "    data_voi = data_voi / np.max(data_voi)\n",
    "    data_voi = (data_voi * 255).astype(np.uint8)\n",
    "    return data_voi"
   ]
  },
  {
   "cell_type": "code",
   "execution_count": 4,
   "id": "b3f0c73e",
   "metadata": {
    "code_folding": []
   },
   "outputs": [],
   "source": [
    "## Helper for create_master_lists, gets the orientation of the image and just returns the side\n",
    "def orientation_to_side(orientation):\n",
    "    if orientation == 'FR' or orientation == 'R':\n",
    "        return 'L'\n",
    "    return 'R'"
   ]
  },
  {
   "cell_type": "code",
   "execution_count": 5,
   "id": "fb331257",
   "metadata": {},
   "outputs": [],
   "source": [
    "## Helper for create_master_lists, returns info from clinical data sheet\n",
    "def pull_clinical_data(ID, side):\n",
    "    patient_indices = clinical.loc[clinical['ID1'] == ID]\n",
    "    \n",
    "    if len(patient_indices) > 2:\n",
    "        print(\"Check pull_clinical_data\")\n",
    "        exit()\n",
    "        \n",
    "    if ID[1]=='2' and len(patient_indices) == 1:\n",
    "        index = patient_indices.index[0]\n",
    "        if not clinical['LeftRight'][index] == side:\n",
    "            age = clinical['Age'][index]\n",
    "            abnormality = 'D2 Normal'\n",
    "            classification = 'D2 Normal'\n",
    "            subtype = 'D2 Normal'\n",
    "            return age, abnormality, classification, subtype\n",
    "        \n",
    "    for idx in patient_indices.index:\n",
    "        if not (clinical['LeftRight'][idx] == side):\n",
    "            continue\n",
    "        age = clinical['Age'][idx]\n",
    "        abnormality = clinical['abnormality'][idx]\n",
    "        classification = clinical['classification'][idx]\n",
    "        subtype = clinical['subtype'][idx]\n",
    "        return age, abnormality, classification, subtype"
   ]
  },
  {
   "cell_type": "code",
   "execution_count": 6,
   "id": "fe17b8ef",
   "metadata": {},
   "outputs": [],
   "source": [
    "## Function to read from the CSV files and get all of our data into arrays that are indexed the same\n",
    "def create_master_lists(): \n",
    "    images = []\n",
    "    im_shapes = []\n",
    "    IDs = []\n",
    "    ages = []\n",
    "    abnormalities = []\n",
    "    classifications = []\n",
    "    orientations = []\n",
    "    subtypes = []\n",
    "    for i in range(0, len(meta.index)): #len(meta.index)\n",
    "        ID=meta['Subject ID'][i]\n",
    "        for j in range(1, meta['Number of Images'][i]+1):\n",
    "            img_name = \"1-\" + str(j) + \".dcm\"\n",
    "            path = os.path.join(meta['File Location'][i], img_name)\n",
    "            \n",
    "            dicom = pydicom.read_file(path)\n",
    "            \n",
    "            orientation = dicom.PatientOrientation[1]\n",
    "            side = orientation_to_side(orientation)\n",
    "            age, abnormality, classification, subtype = pull_clinical_data(ID, side)\n",
    "            \n",
    "            img = convert_dicom_to_np(dicom)\n",
    "            images.append(img)\n",
    "            im_shapes.append(np.shape(img))\n",
    "            IDs.append(ID)\n",
    "            ages.append(age)\n",
    "            abnormalities.append(abnormality)\n",
    "            classifications.append(classification)\n",
    "            orientations.append(orientation)\n",
    "            subtypes.append(subtype)\n",
    "       \n",
    "    return images, im_shapes, IDs, ages, abnormalities, classifications, orientations, subtypes"
   ]
  },
  {
   "cell_type": "code",
   "execution_count": 7,
   "id": "cea9734d",
   "metadata": {},
   "outputs": [
    {
     "name": "stdout",
     "output_type": "stream",
     "text": [
      "Wall time: 0 ns\n"
     ]
    }
   ],
   "source": [
    "## Create data arrays\n",
    "images, im_shapes, IDs, ages, abnormalities, classifications, orientations, subtypes = create_master_lists()"
   ]
  },
  {
   "cell_type": "code",
   "execution_count": 8,
   "id": "26e5930c",
   "metadata": {},
   "outputs": [],
   "source": [
    "# Save data arrays\n",
    "with open('images.pkl', 'wb') as f:\n",
    "    pickle.dump(images, f)\n",
    "with open('im_shapes.pkl', 'wb') as f:\n",
    "    pickle.dump(im_shapes, f)    \n",
    "with open('IDs.pkl', 'wb') as f:\n",
    "    pickle.dump(IDs, f)\n",
    "with open('ages.pkl', 'wb') as f:\n",
    "    pickle.dump(ages, f)  \n",
    "with open('abnormalities.pkl', 'wb') as f:\n",
    "    pickle.dump(abnormalities, f)\n",
    "with open('classifications.pkl', 'wb') as f:\n",
    "    pickle.dump(classifications, f)   \n",
    "with open('orientations.pkl', 'wb') as f:\n",
    "    pickle.dump(orientations, f)\n",
    "with open('subtypes.pkl', 'wb') as f:\n",
    "    pickle.dump(subtypes, f) "
   ]
  },
  {
   "cell_type": "code",
   "execution_count": 2,
   "id": "2a8f71e2",
   "metadata": {},
   "outputs": [
    {
     "name": "stdout",
     "output_type": "stream",
     "text": [
      "Wall time: 23.9 ms\n"
     ]
    }
   ],
   "source": [
    "# Reload data arrays if needed\n",
    "with open('images.pkl', 'rb') as f:\n",
    "    images = pickle.load(f)\n",
    "with open('im_shapes.pkl', 'rb') as f:\n",
    "    im_shapes = pickle.load(f)    \n",
    "with open('IDs.pkl', 'rb') as f:\n",
    "    IDs = pickle.load(f)\n",
    "with open('ages.pkl', 'rb') as f:\n",
    "    ages = pickle.load(f)  \n",
    "with open('abnormalities.pkl', 'rb') as f:\n",
    "    abnormalities = pickle.load(f)\n",
    "with open('classifications.pkl', 'rb') as f:\n",
    "    classifications = pickle.load(f)   \n",
    "with open('orientations.pkl', 'rb') as f:\n",
    "    orientations = pickle.load(f)\n",
    "with open('subtypes.pkl', 'rb') as f:\n",
    "    subtypes = pickle.load(f) "
   ]
  },
  {
   "cell_type": "code",
   "execution_count": 10,
   "id": "49691bfb",
   "metadata": {},
   "outputs": [],
   "source": [
    "## Function to rescale images in a list (functionality that skimage.transform.resize doesn't have)\n",
    "def rescale_images(input_images, scale):\n",
    "    new_list = []\n",
    "    for image in input_images:\n",
    "        new_list.append(resize(image, scale))\n",
    "    return new_list"
   ]
  },
  {
   "cell_type": "code",
   "execution_count": 5,
   "id": "bbb010a8",
   "metadata": {
    "ExecuteTime": {
     "end_time": "2022-12-16T17:39:15.515846Z",
     "start_time": "2022-12-16T17:39:15.509863Z"
    }
   },
   "outputs": [
    {
     "name": "stdout",
     "output_type": "stream",
     "text": [
      "(5150, 162, 135)\n",
      "Wall time: 998 µs\n"
     ]
    }
   ],
   "source": [
    "## Set scale (determined by RAM needs in eigenvector creation ((row*col)^2) covariance matrix of floats) \n",
    "scale = (162, 135)\n",
    "np_scaled_images = np.array(rescale_images(images, scale))\n",
    "## np_scaled_images shape is (index, rows, cols)\n",
    "print(np_scaled_images.shape)"
   ]
  },
  {
   "cell_type": "code",
   "execution_count": 2,
   "id": "d33a0027",
   "metadata": {
    "ExecuteTime": {
     "end_time": "2022-12-16T19:39:48.719520Z",
     "start_time": "2022-12-16T19:39:48.192929Z"
    }
   },
   "outputs": [],
   "source": [
    "## Save/reload np_scaled_images\n",
    "with open('np_scaled_images.npy', 'wb') as f:\n",
    "    pickle.dump(np_scaled_images, f)\n",
    "with open('np_scaled_images.npy', 'rb') as f:\n",
    "    np_scaled_images = pickle.load(f)"
   ]
  },
  {
   "cell_type": "code",
   "execution_count": 14,
   "id": "6d8f8525",
   "metadata": {},
   "outputs": [],
   "source": [
    "## This function will flip the right side images to the left for better more consistent data to train on\n",
    "## Takes (index, row, col) and returns (index, row, col)\n",
    "def flip_list(np_imgs, to_print=False):\n",
    "    flip_list=[]\n",
    "    for q in range(0,len(np_imgs)):\n",
    "        if orientations[q]=='L' or orientations[q]=='FL': #flipping the right images\n",
    "            flip_list.append(np.flip(np_imgs[q],1)) #the integer there is the axis being flipped\n",
    "        else:\n",
    "            flip_list.append(np_imgs[q])\n",
    "    np_flip_list = np.array(flip_list)\n",
    "    \n",
    "    if to_print:\n",
    "        print(f'len(np_imgs)={len(np_imgs)}')\n",
    "        print(f'len(orientations)={len(orientations)}')\n",
    "        print('list of flipped images')\n",
    "        print(f'len(flip_list)={len(flip_list)}')\n",
    "        print(f'flip_list[0].shape={flip_list[0].shape}')\n",
    "        print(f\"np_flip_list.shape={np_flip_list.shape}\")\n",
    "    return np_flip_list"
   ]
  },
  {
   "cell_type": "code",
   "execution_count": 51,
   "id": "51bac582",
   "metadata": {},
   "outputs": [
    {
     "name": "stdout",
     "output_type": "stream",
     "text": [
      "len(np_imgs)=5150\n",
      "len(orientations)=5150\n",
      "list of flipped images\n",
      "len(flip_list)=5150\n",
      "flip_list[0].shape=(162, 135)\n",
      "np_flip_list.shape=(5150, 162, 135)\n"
     ]
    }
   ],
   "source": [
    "np_flipped_images = flip_list(np_scaled_images, True)"
   ]
  },
  {
   "cell_type": "code",
   "execution_count": 52,
   "id": "cbabf7a8",
   "metadata": {},
   "outputs": [],
   "source": [
    "## This function will splits the images into three groups side view, bottom view, and a combined concatenated view\n",
    "## Takes (index, rows, cols) returns three np arrays with images in flattened form with shape (index, rows*cols)\n",
    "def create_side_bottom_concat(np_imgs, to_print=False, orients=orientations):\n",
    "    side=[]\n",
    "    below=[]\n",
    "    flattened_imgs = np_imgs.reshape(np_imgs.shape[0], np_imgs.shape[1]*np_imgs.shape[2])\n",
    "    if to_print:\n",
    "        print(flattened_imgs.shape)\n",
    "    for i in range(0, flattened_imgs.shape[0]):\n",
    "        if len(orients[i]) == 2:\n",
    "            side.append(flattened_imgs[i])\n",
    "        else:\n",
    "            below.append(flattened_imgs[i])   \n",
    "    side = np.array(side)\n",
    "    below = np.array(below)\n",
    "    concat = np.concatenate((side, below), 1)\n",
    "    if to_print:\n",
    "        print('\\nconcatenated images')\n",
    "        print(f'concat.shape={concat.shape}')\n",
    "        print('\\nside images')\n",
    "        print(f'side.shape={side.shape}')\n",
    "        print('\\nbelow images')\n",
    "        print(f'below.shape={below.shape}')\n",
    "    return side, below, concat"
   ]
  },
  {
   "cell_type": "code",
   "execution_count": 53,
   "id": "936e3d5f",
   "metadata": {},
   "outputs": [
    {
     "name": "stdout",
     "output_type": "stream",
     "text": [
      "(5150, 21870)\n",
      "\n",
      "concatenated images\n",
      "concat.shape=(2575, 43740)\n",
      "\n",
      "side images\n",
      "side.shape=(2575, 21870)\n",
      "\n",
      "below images\n",
      "below.shape=(2575, 21870)\n"
     ]
    }
   ],
   "source": [
    "## Create side, below, and concat img arrays\n",
    "side_imgs, below_imgs, concat_imgs = create_side_bottom_concat(np_flipped_images, True)"
   ]
  },
  {
   "cell_type": "code",
   "execution_count": 3,
   "id": "9b4aed30",
   "metadata": {
    "ExecuteTime": {
     "end_time": "2022-12-16T19:39:57.249703Z",
     "start_time": "2022-12-16T19:39:56.204498Z"
    }
   },
   "outputs": [],
   "source": [
    "## Save/reopen new arrays\n",
    "with open('side_imgs.npy', 'wb') as f:\n",
    "    pickle.dump(side_imgs, f)\n",
    "with open('below_imgs.npy', 'wb') as f:\n",
    "    pickle.dump(below_imgs, f)\n",
    "with open('concat_imgs.npy', 'wb') as f:\n",
    "    pickle.dump(concat_imgs, f)\n",
    "\n",
    "with open('side_imgs.npy', 'rb') as f:\n",
    "    side_imgs = pickle.load(f)\n",
    "with open('below_imgs.npy', 'rb') as f:\n",
    "    below_imgs = pickle.load(f) \n",
    "with open('concat_imgs.npy', 'rb') as f:\n",
    "    concat_imgs = pickle.load(f) "
   ]
  },
  {
   "cell_type": "code",
   "execution_count": 8,
   "id": "c99b5c44",
   "metadata": {
    "ExecuteTime": {
     "end_time": "2022-12-16T19:42:55.200708Z",
     "start_time": "2022-12-16T19:42:54.914473Z"
    }
   },
   "outputs": [
    {
     "data": {
      "text/plain": [
       "<matplotlib.image.AxesImage at 0x24541af6c70>"
      ]
     },
     "execution_count": 8,
     "metadata": {},
     "output_type": "execute_result"
    },
    {
     "data": {
      "image/png": "[encoded data removed]",
      "text/plain": [
       "<Figure size 640x480 with 1 Axes>"
      ]
     },
     "metadata": {},
     "output_type": "display_data"
    },
    {
     "data": {
      "image/png": "[encoded data removed]",
      "text/plain": [
       "<Figure size 640x480 with 1 Axes>"
      ]
     },
     "metadata": {},
     "output_type": "display_data"
    },
    {
     "data": {
      "image/png": "[encoded data removed]",
      "text/plain": [
       "<Figure size 640x480 with 1 Axes>"
      ]
     },
     "metadata": {},
     "output_type": "display_data"
    }
   ],
   "source": [
    "## Display each image type\n",
    "plt.figure()\n",
    "plt.imshow(side_imgs[0].reshape(scale), cmap='gray')\n",
    "plt.figure()\n",
    "plt.imshow(below_imgs[0].reshape(scale), cmap='gray')\n",
    "plt.figure()\n",
    "plt.imshow(concat_imgs[0].reshape((scale[0]*2, scale[1])), cmap='gray')"
   ]
  },
  {
   "cell_type": "code",
   "execution_count": 80,
   "id": "b9288ffa",
   "metadata": {},
   "outputs": [],
   "source": [
    "## define the keys randomly for picking the training and test sets\n",
    "\n",
    "##DO NOT RERUN AFTER RUNNING ONCE, VERY IMPORTANT TO MAINTAIN THIS SET\n",
    "keys = np.arange(0,side_imgs.shape[0])\n",
    "np.random.shuffle(keys)\n",
    "\n",
    "##########################################################\n",
    "# Note to grader I'm not going to uncomment this below   #\n",
    "# but you do need to uncomment and run the dump function #\n",
    "##########################################################\n",
    "# with open('OFFICIAL_keys.pkl', 'wb') as f:\n",
    "#     pickle.dump(keys, f)\n",
    "\n",
    "with open('OFFICIAL_keys.pkl', 'rb') as f:\n",
    "    keys = pickle.load(f)\n",
    "\n",
    "## Define train/test/validation at 80/10/10 split\n",
    "train_set = keys[:int(0.8*len(keys))]\n",
    "test_set = keys[int(0.8*len(keys)):int(0.9*len(keys))+1]\n",
    "validation_set = keys[int(0.9*len(keys))+1:]"
   ]
  },
  {
   "cell_type": "code",
   "execution_count": 4,
   "id": "bdb3a951",
   "metadata": {},
   "outputs": [],
   "source": [
    "## Simple function to print the number of each class of image\n",
    "def print_classifications(classes):\n",
    "    norm_count, malig_count, benign_count = 0, 0, 0\n",
    "    for c in classes: \n",
    "        if c == \"D2 Normal\":\n",
    "            norm_count+=1\n",
    "        if c == \"Benign\":\n",
    "            benign_count+=1\n",
    "        if c == \"Malignant\":\n",
    "            malig_count+=1\n",
    "    print(f\"Norm: {norm_count}, Malignant: {malig_count}, Benign: {benign_count}\")"
   ]
  },
  {
   "cell_type": "code",
   "execution_count": 5,
   "id": "6c977d52",
   "metadata": {},
   "outputs": [
    {
     "name": "stdout",
     "output_type": "stream",
     "text": [
      "Norm: 1444, Malignant: 2594, Benign: 1112\n"
     ]
    }
   ],
   "source": [
    "## See how many of each class there are\n",
    "print_classifications(classifications)"
   ]
  }
 ],
 "metadata": {
  "kernelspec": {
   "display_name": "Python 3 (ipykernel)",
   "language": "python",
   "name": "python3"
  },
  "language_info": {
   "codemirror_mode": {
    "name": "ipython",
    "version": 3
   },
   "file_extension": ".py",
   "mimetype": "text/x-python",
   "name": "python",
   "nbconvert_exporter": "python",
   "pygments_lexer": "ipython3",
   "version": "3.9.13"
  },
  "varInspector": {
   "cols": {
    "lenName": 16,
    "lenType": 16,
    "lenVar": 40
   },
   "kernels_config": {
    "python": {
     "delete_cmd_postfix": "",
     "delete_cmd_prefix": "del ",
     "library": "var_list.py",
     "varRefreshCmd": "print(var_dic_list())"
    },
    "r": {
     "delete_cmd_postfix": ") ",
     "delete_cmd_prefix": "rm(",
     "library": "var_list.r",
     "varRefreshCmd": "cat(var_dic_list()) "
    }
   },
   "types_to_exclude": [
    "module",
    "function",
    "builtin_function_or_method",
    "instance",
    "_Feature"
   ],
   "window_display": false
  }
 },
 "nbformat": 4,
 "nbformat_minor": 5
}
