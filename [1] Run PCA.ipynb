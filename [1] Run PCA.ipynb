{
 "cells": [
  {
   "cell_type": "markdown",
   "id": "64bb288a",
   "metadata": {},
   "source": [
    "# [1] Run PCA\n",
    "This notebook is where we run PCA on the downscaled images in order to create eigenvectors for analysis of model's performance on eigenvectors data rather than raw pixel data."
   ]
  },
  {
   "cell_type": "code",
   "execution_count": 1,
   "id": "2ed15409",
   "metadata": {
    "ExecuteTime": {
     "end_time": "2022-12-16T17:51:13.522618Z",
     "start_time": "2022-12-16T17:51:12.490377Z"
    }
   },
   "outputs": [],
   "source": [
    "# Import libraries\n",
    "import numpy as np\n",
    "import os\n",
    "import pickle\n",
    "from skimage.transform import resize\n",
    "\n",
    "import matplotlib.pyplot as plt\n",
    "%matplotlib inline"
   ]
  },
  {
   "cell_type": "code",
   "execution_count": 2,
   "id": "b1e386e3",
   "metadata": {
    "ExecuteTime": {
     "end_time": "2022-12-16T17:51:17.987683Z",
     "start_time": "2022-12-16T17:51:17.104045Z"
    }
   },
   "outputs": [],
   "source": [
    "#loading in important variables\n",
    "with open('OFFICIAL_keys.pkl', 'rb') as f:\n",
    "    keys = pickle.load(f)\n",
    "train_set = keys[:int(0.8*len(keys))]\n",
    "test_set = keys[int(0.8*len(keys)):int(0.9*len(keys))+1]\n",
    "validation_set = keys[int(0.9*len(keys))+1:]\n",
    "\n",
    "scale = (162, 135)\n",
    "\n",
    "with open('side_imgs.npy', 'rb') as f:\n",
    "    side_imgs = pickle.load(f)\n",
    "with open('below_imgs.npy', 'rb') as f:\n",
    "    below_imgs = pickle.load(f) \n",
    "with open('concat_imgs.npy', 'rb') as f:\n",
    "    concat_imgs = pickle.load(f) "
   ]
  },
  {
   "cell_type": "code",
   "execution_count": 3,
   "id": "01218406",
   "metadata": {},
   "outputs": [],
   "source": [
    "## PCA function copy/pasted from Max's MP3 (with code added to reshape the data)\n",
    "\n",
    "# Implement the PCA Function\n",
    "\n",
    "# Input - data of shape MxN (M=features, N=samples)\n",
    "#       - n_comps = number of PCs to find\n",
    "\n",
    "# Output - eigenvalues of shape (n_comps,)\n",
    "#        - eigenvectors of shape (n_comps, M)\n",
    "\n",
    "from scipy.sparse.linalg import eigsh\n",
    "\n",
    "def pca(unshaped_data, n_comps):\n",
    "    \n",
    "    data = unshaped_data.reshape(*unshaped_data.shape[:1],-1).T\n",
    "    print(data.shape)\n",
    "    \n",
    "    ##### TODO #####\n",
    "    n = data.shape[1]\n",
    "    m = data.shape[0]\n",
    "    print(n, m)\n",
    "    \n",
    "    #Check data is centered\n",
    "    X = center_mean(data)\n",
    "    print(X.shape)\n",
    "    \n",
    "    #Compute Cov matrix of X: Cx\n",
    "    Cx = (1/n) * np.matmul(X, X.T)\n",
    "    print(Cx.shape)\n",
    "    \n",
    "    #Eigenvalue decomposition of Cx\n",
    "    eigenvalues, eigenvectors = eigsh(A=Cx, k=n_comps)\n",
    "    flipped_vals = np.flip(eigenvalues)\n",
    "    vectors_flipped = eigenvectors.T\n",
    "    vectors_reversed = np.flip(vectors_flipped, 0)\n",
    "    return flipped_vals, vectors_reversed\n",
    "\n",
    "### helper function to average data\n",
    "def center_mean(data, print_means=False):\n",
    "    row_means = np.mean(data, axis=1)\n",
    "    if print_means: print(row_means)\n",
    "    if np.any(row_means != 0): \n",
    "        to_return = np.empty(data.shape)\n",
    "        for i in range(0, data.shape[1]):\n",
    "            to_return[:, i] = data[:, i] - row_means[:]\n",
    "        return to_return\n",
    "    else:\n",
    "        return data"
   ]
  },
  {
   "cell_type": "code",
   "execution_count": 3,
   "id": "44153654",
   "metadata": {
    "ExecuteTime": {
     "end_time": "2022-12-16T17:52:47.482464Z",
     "start_time": "2022-12-16T17:52:47.129408Z"
    }
   },
   "outputs": [],
   "source": [
    "## We conduct PCA ONLY on the training sets as the test and validation should be \"unknown\" to our code\n",
    "train_side_imgs = side_imgs[train_set]\n",
    "train_below_imgs = below_imgs[train_set]\n",
    "train_concat_imgs = concat_imgs[train_set]"
   ]
  },
  {
   "cell_type": "code",
   "execution_count": 4,
   "id": "e270db85",
   "metadata": {
    "ExecuteTime": {
     "end_time": "2022-12-16T17:52:48.774012Z",
     "start_time": "2022-12-16T17:52:48.754078Z"
    }
   },
   "outputs": [
    {
     "data": {
      "text/plain": [
       "(2060, 21870)"
      ]
     },
     "execution_count": 4,
     "metadata": {},
     "output_type": "execute_result"
    }
   ],
   "source": [
    "train_side_imgs.shape"
   ]
  },
  {
   "cell_type": "code",
   "execution_count": 14,
   "id": "c9079169",
   "metadata": {},
   "outputs": [
    {
     "name": "stdout",
     "output_type": "stream",
     "text": [
      "(21870, 2060)\n",
      "2060 21870\n",
      "(21870, 2060)\n",
      "(21870, 21870)\n",
      "Wall time: 14min 13s\n"
     ]
    }
   ],
   "source": [
    "## Generate eigenvectors and values for side images\n",
    "train_side_vals, train_side_vectors = pca(train_side_imgs, train_side_imgs.shape[1])"
   ]
  },
  {
   "cell_type": "code",
   "execution_count": 15,
   "id": "65d8d2dd",
   "metadata": {},
   "outputs": [
    {
     "name": "stdout",
     "output_type": "stream",
     "text": [
      "Wall time: 26.2 s\n"
     ]
    }
   ],
   "source": [
    "## Dump eigenvectors and values for side images\n",
    "with open('train_side_vals.npy', 'wb') as f:\n",
    "    pickle.dump(train_side_vals, f)\n",
    "with open('train_side_vectors.npy', 'wb') as f:\n",
    "    pickle.dump(train_side_vectors, f)"
   ]
  },
  {
   "cell_type": "code",
   "execution_count": 16,
   "id": "40fbb2de",
   "metadata": {},
   "outputs": [
    {
     "name": "stdout",
     "output_type": "stream",
     "text": [
      "(21870, 2060)\n",
      "2060 21870\n",
      "(21870, 2060)\n",
      "(21870, 21870)\n",
      "Wall time: 11min 38s\n"
     ]
    }
   ],
   "source": [
    "## Generate eigenvectors and values for below images\n",
    "train_below_vals, train_below_vectors = pca(train_below_imgs, train_below_imgs.shape[1])"
   ]
  },
  {
   "cell_type": "code",
   "execution_count": 17,
   "id": "2903e85a",
   "metadata": {},
   "outputs": [
    {
     "name": "stdout",
     "output_type": "stream",
     "text": [
      "Wall time: 25.8 s\n"
     ]
    }
   ],
   "source": [
    "## Dump eigenvectors and values for below images\n",
    "with open('train_below_vals.npy', 'wb') as f:\n",
    "    pickle.dump(train_below_vals, f)\n",
    "with open('train_below_vectors.npy', 'wb') as f:\n",
    "    pickle.dump(train_below_vectors, f)"
   ]
  },
  {
   "cell_type": "code",
   "execution_count": 6,
   "id": "db507fa2",
   "metadata": {},
   "outputs": [
    {
     "name": "stdout",
     "output_type": "stream",
     "text": [
      "(43740, 2060)\n",
      "2060 43740\n",
      "(43740, 2060)\n",
      "(43740, 43740)\n"
     ]
    },
    {
     "name": "stderr",
     "output_type": "stream",
     "text": [
      "C:\\ProgramData\\Anaconda3\\lib\\site-packages\\scipy\\sparse\\linalg\\_eigen\\arpack\\arpack.py:1592: RuntimeWarning: k >= N for N * N square matrix. Attempting to use scipy.linalg.eigh instead.\n",
      "  warnings.warn(\"k >= N for N * N square matrix. \"\n"
     ]
    },
    {
     "name": "stdout",
     "output_type": "stream",
     "text": [
      "Wall time: 1h 54min 41s\n"
     ]
    }
   ],
   "source": [
    "## Generate eigenvectors and values for concat images\n",
    "train_concat_vals, train_concat_vectors = pca(train_concat_imgs, train_concat_imgs.shape[1])"
   ]
  },
  {
   "cell_type": "code",
   "execution_count": 7,
   "id": "734e355a",
   "metadata": {},
   "outputs": [
    {
     "name": "stdout",
     "output_type": "stream",
     "text": [
      "Wall time: 2min 9s\n"
     ]
    }
   ],
   "source": [
    "## Dump eigenvectors and values for concat images\n",
    "with open('train_concat_vals.npy', 'wb') as f:\n",
    "    pickle.dump(train_concat_vals, f)\n",
    "with open('train_concat_vectors.npy', 'wb') as f:\n",
    "    pickle.dump(train_concat_vectors, f)"
   ]
  }
 ],
 "metadata": {
  "kernelspec": {
   "display_name": "Python 3 (ipykernel)",
   "language": "python",
   "name": "python3"
  },
  "language_info": {
   "codemirror_mode": {
    "name": "ipython",
    "version": 3
   },
   "file_extension": ".py",
   "mimetype": "text/x-python",
   "name": "python",
   "nbconvert_exporter": "python",
   "pygments_lexer": "ipython3",
   "version": "3.9.13"
  },
  "varInspector": {
   "cols": {
    "lenName": 16,
    "lenType": 16,
    "lenVar": 40
   },
   "kernels_config": {
    "python": {
     "delete_cmd_postfix": "",
     "delete_cmd_prefix": "del ",
     "library": "var_list.py",
     "varRefreshCmd": "print(var_dic_list())"
    },
    "r": {
     "delete_cmd_postfix": ") ",
     "delete_cmd_prefix": "rm(",
     "library": "var_list.r",
     "varRefreshCmd": "cat(var_dic_list()) "
    }
   },
   "types_to_exclude": [
    "module",
    "function",
    "builtin_function_or_method",
    "instance",
    "_Feature"
   ],
   "window_display": false
  }
 },
 "nbformat": 4,
 "nbformat_minor": 5
}
